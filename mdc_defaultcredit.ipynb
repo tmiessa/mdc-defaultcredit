{
  "nbformat": 4,
  "nbformat_minor": 0,
  "metadata": {
    "colab": {
      "name": "mdc-defaultcredit.ipynb",
      "version": "0.3.2",
      "provenance": [],
      "collapsed_sections": [],
      "toc_visible": true,
      "include_colab_link": true
    },
    "kernelspec": {
      "name": "python3",
      "display_name": "Python 3"
    },
    "accelerator": "GPU"
  },
  "cells": [
    {
      "cell_type": "markdown",
      "metadata": {
        "id": "view-in-github",
        "colab_type": "text"
      },
      "source": [
        "<a href=\"https://colab.research.google.com/github/tmiessa/mdc-defaultcredit/blob/development/mdc_defaultcredit.ipynb\" target=\"_parent\"><img src=\"https://colab.research.google.com/assets/colab-badge.svg\" alt=\"Open In Colab\"/></a>"
      ]
    },
    {
      "cell_type": "markdown",
      "metadata": {
        "id": "EdSmnuNJJu7e",
        "colab_type": "text"
      },
      "source": [
        "# MDC 2019 - INF-0619 - Default of Credit Cards\n"
      ]
    },
    {
      "cell_type": "markdown",
      "metadata": {
        "id": "pXcUnOPxKY_z",
        "colab_type": "text"
      },
      "source": [
        "## Alunos\n",
        "* Matheus Pacheco\n",
        "* Raphael Santos\n",
        "* Renato Dias\n",
        "* Tiago Miessa"
      ]
    },
    {
      "cell_type": "markdown",
      "metadata": {
        "id": "wzl9aXvdJyfN",
        "colab_type": "text"
      },
      "source": [
        "## Imports"
      ]
    },
    {
      "cell_type": "code",
      "metadata": {
        "id": "8ibfVPirJ45n",
        "colab_type": "code",
        "colab": {
          "base_uri": "https://localhost:8080/",
          "height": 74
        },
        "outputId": "d2f2cb31-01ae-433b-f172-9c4feb6c07c4"
      },
      "source": [
        "import sys\n",
        "import os \n",
        "import requests\n",
        "from datetime import date\n",
        "\n",
        "import pandas as pd\n",
        "import numpy as np\n",
        "\n",
        "import matplotlib.pyplot as plt\n",
        "import seaborn as sns\n",
        "\n",
        "from imblearn.over_sampling import SMOTE\n",
        "\n",
        "from sklearn.compose import ColumnTransformer\n",
        "from sklearn.ensemble import GradientBoostingClassifier\n",
        "from sklearn.model_selection import GridSearchCV, train_test_split\n",
        "from sklearn.metrics import confusion_matrix, accuracy_score, balanced_accuracy_score, f1_score\n",
        "from sklearn.linear_model import LogisticRegression\n",
        "from sklearn.preprocessing import OneHotEncoder, StandardScaler\n",
        "from sklearn.svm import SVC\n",
        "from sklearn.utils import resample\n",
        "\n",
        "\n",
        "from xgboost import XGBClassifier"
      ],
      "execution_count": 1,
      "outputs": [
        {
          "output_type": "stream",
          "text": [
            "/usr/local/lib/python3.6/dist-packages/sklearn/externals/six.py:31: DeprecationWarning: The module is deprecated in version 0.21 and will be removed in version 0.23 since we've dropped support for Python 2.7. Please rely on the official version of six (https://pypi.org/project/six/).\n",
            "  \"(https://pypi.org/project/six/).\", DeprecationWarning)\n"
          ],
          "name": "stderr"
        }
      ]
    },
    {
      "cell_type": "code",
      "metadata": {
        "id": "XzMM4GdVsuhU",
        "colab_type": "code",
        "colab": {}
      },
      "source": [
        "sns.set_style(\"whitegrid\")"
      ],
      "execution_count": 0,
      "outputs": []
    },
    {
      "cell_type": "markdown",
      "metadata": {
        "id": "MUnX084XJ0Ff",
        "colab_type": "text"
      },
      "source": [
        "## Download do Dataset"
      ]
    },
    {
      "cell_type": "code",
      "metadata": {
        "id": "dK9g_3SzJAwZ",
        "colab_type": "code",
        "outputId": "3abcb234-0ec7-4fa2-9408-f39873bb90fe",
        "colab": {
          "base_uri": "https://localhost:8080/",
          "height": 35
        }
      },
      "source": [
        "## download files\n",
        "if os.path.isfile('UCI_Credit_Card.csv'):\n",
        "    print('file already exists!')\n",
        "else:\n",
        "    print('file does not exists, downloading...')\n",
        "    myfile = requests.get('https://onedrive.live.com/download?cid=F1E435813B40678A&resid=F1E435813B40678A%218086&authkey=AE0BdkzcP5BTU-M')\n",
        "    open('UCI_Credit_Card.csv', 'wb').write(myfile.content)\n",
        "    print('file downloaded')"
      ],
      "execution_count": 3,
      "outputs": [
        {
          "output_type": "stream",
          "text": [
            "file already exists!\n"
          ],
          "name": "stdout"
        }
      ]
    },
    {
      "cell_type": "code",
      "metadata": {
        "id": "jDcT-v71K_JZ",
        "colab_type": "code",
        "colab": {}
      },
      "source": [
        "df = pd.read_csv('UCI_Credit_Card.csv')\n",
        "\n",
        "# Rename de coluna fora do padrão e do target, para facilitar referência futura\n",
        "df.rename(columns={'PAY_0':'PAY_1','default.payment.next.month':'DEFAULTED'}, inplace=True)"
      ],
      "execution_count": 0,
      "outputs": []
    },
    {
      "cell_type": "code",
      "metadata": {
        "id": "xZi8-FZ0MDwR",
        "colab_type": "code",
        "colab": {
          "base_uri": "https://localhost:8080/",
          "height": 226
        },
        "outputId": "d38f5689-4ec5-494f-c8ab-c9662f0a170e"
      },
      "source": [
        "df.head()"
      ],
      "execution_count": 5,
      "outputs": [
        {
          "output_type": "execute_result",
          "data": {
            "text/html": [
              "<div>\n",
              "<style scoped>\n",
              "    .dataframe tbody tr th:only-of-type {\n",
              "        vertical-align: middle;\n",
              "    }\n",
              "\n",
              "    .dataframe tbody tr th {\n",
              "        vertical-align: top;\n",
              "    }\n",
              "\n",
              "    .dataframe thead th {\n",
              "        text-align: right;\n",
              "    }\n",
              "</style>\n",
              "<table border=\"1\" class=\"dataframe\">\n",
              "  <thead>\n",
              "    <tr style=\"text-align: right;\">\n",
              "      <th></th>\n",
              "      <th>ID</th>\n",
              "      <th>LIMIT_BAL</th>\n",
              "      <th>SEX</th>\n",
              "      <th>EDUCATION</th>\n",
              "      <th>MARRIAGE</th>\n",
              "      <th>AGE</th>\n",
              "      <th>PAY_1</th>\n",
              "      <th>PAY_2</th>\n",
              "      <th>PAY_3</th>\n",
              "      <th>PAY_4</th>\n",
              "      <th>PAY_5</th>\n",
              "      <th>PAY_6</th>\n",
              "      <th>BILL_AMT1</th>\n",
              "      <th>BILL_AMT2</th>\n",
              "      <th>BILL_AMT3</th>\n",
              "      <th>BILL_AMT4</th>\n",
              "      <th>BILL_AMT5</th>\n",
              "      <th>BILL_AMT6</th>\n",
              "      <th>PAY_AMT1</th>\n",
              "      <th>PAY_AMT2</th>\n",
              "      <th>PAY_AMT3</th>\n",
              "      <th>PAY_AMT4</th>\n",
              "      <th>PAY_AMT5</th>\n",
              "      <th>PAY_AMT6</th>\n",
              "      <th>DEFAULTED</th>\n",
              "    </tr>\n",
              "  </thead>\n",
              "  <tbody>\n",
              "    <tr>\n",
              "      <th>0</th>\n",
              "      <td>1</td>\n",
              "      <td>20000.0</td>\n",
              "      <td>2</td>\n",
              "      <td>2</td>\n",
              "      <td>1</td>\n",
              "      <td>24</td>\n",
              "      <td>2</td>\n",
              "      <td>2</td>\n",
              "      <td>-1</td>\n",
              "      <td>-1</td>\n",
              "      <td>-2</td>\n",
              "      <td>-2</td>\n",
              "      <td>3913.0</td>\n",
              "      <td>3102.0</td>\n",
              "      <td>689.0</td>\n",
              "      <td>0.0</td>\n",
              "      <td>0.0</td>\n",
              "      <td>0.0</td>\n",
              "      <td>0.0</td>\n",
              "      <td>689.0</td>\n",
              "      <td>0.0</td>\n",
              "      <td>0.0</td>\n",
              "      <td>0.0</td>\n",
              "      <td>0.0</td>\n",
              "      <td>1</td>\n",
              "    </tr>\n",
              "    <tr>\n",
              "      <th>1</th>\n",
              "      <td>2</td>\n",
              "      <td>120000.0</td>\n",
              "      <td>2</td>\n",
              "      <td>2</td>\n",
              "      <td>2</td>\n",
              "      <td>26</td>\n",
              "      <td>-1</td>\n",
              "      <td>2</td>\n",
              "      <td>0</td>\n",
              "      <td>0</td>\n",
              "      <td>0</td>\n",
              "      <td>2</td>\n",
              "      <td>2682.0</td>\n",
              "      <td>1725.0</td>\n",
              "      <td>2682.0</td>\n",
              "      <td>3272.0</td>\n",
              "      <td>3455.0</td>\n",
              "      <td>3261.0</td>\n",
              "      <td>0.0</td>\n",
              "      <td>1000.0</td>\n",
              "      <td>1000.0</td>\n",
              "      <td>1000.0</td>\n",
              "      <td>0.0</td>\n",
              "      <td>2000.0</td>\n",
              "      <td>1</td>\n",
              "    </tr>\n",
              "    <tr>\n",
              "      <th>2</th>\n",
              "      <td>3</td>\n",
              "      <td>90000.0</td>\n",
              "      <td>2</td>\n",
              "      <td>2</td>\n",
              "      <td>2</td>\n",
              "      <td>34</td>\n",
              "      <td>0</td>\n",
              "      <td>0</td>\n",
              "      <td>0</td>\n",
              "      <td>0</td>\n",
              "      <td>0</td>\n",
              "      <td>0</td>\n",
              "      <td>29239.0</td>\n",
              "      <td>14027.0</td>\n",
              "      <td>13559.0</td>\n",
              "      <td>14331.0</td>\n",
              "      <td>14948.0</td>\n",
              "      <td>15549.0</td>\n",
              "      <td>1518.0</td>\n",
              "      <td>1500.0</td>\n",
              "      <td>1000.0</td>\n",
              "      <td>1000.0</td>\n",
              "      <td>1000.0</td>\n",
              "      <td>5000.0</td>\n",
              "      <td>0</td>\n",
              "    </tr>\n",
              "    <tr>\n",
              "      <th>3</th>\n",
              "      <td>4</td>\n",
              "      <td>50000.0</td>\n",
              "      <td>2</td>\n",
              "      <td>2</td>\n",
              "      <td>1</td>\n",
              "      <td>37</td>\n",
              "      <td>0</td>\n",
              "      <td>0</td>\n",
              "      <td>0</td>\n",
              "      <td>0</td>\n",
              "      <td>0</td>\n",
              "      <td>0</td>\n",
              "      <td>46990.0</td>\n",
              "      <td>48233.0</td>\n",
              "      <td>49291.0</td>\n",
              "      <td>28314.0</td>\n",
              "      <td>28959.0</td>\n",
              "      <td>29547.0</td>\n",
              "      <td>2000.0</td>\n",
              "      <td>2019.0</td>\n",
              "      <td>1200.0</td>\n",
              "      <td>1100.0</td>\n",
              "      <td>1069.0</td>\n",
              "      <td>1000.0</td>\n",
              "      <td>0</td>\n",
              "    </tr>\n",
              "    <tr>\n",
              "      <th>4</th>\n",
              "      <td>5</td>\n",
              "      <td>50000.0</td>\n",
              "      <td>1</td>\n",
              "      <td>2</td>\n",
              "      <td>1</td>\n",
              "      <td>57</td>\n",
              "      <td>-1</td>\n",
              "      <td>0</td>\n",
              "      <td>-1</td>\n",
              "      <td>0</td>\n",
              "      <td>0</td>\n",
              "      <td>0</td>\n",
              "      <td>8617.0</td>\n",
              "      <td>5670.0</td>\n",
              "      <td>35835.0</td>\n",
              "      <td>20940.0</td>\n",
              "      <td>19146.0</td>\n",
              "      <td>19131.0</td>\n",
              "      <td>2000.0</td>\n",
              "      <td>36681.0</td>\n",
              "      <td>10000.0</td>\n",
              "      <td>9000.0</td>\n",
              "      <td>689.0</td>\n",
              "      <td>679.0</td>\n",
              "      <td>0</td>\n",
              "    </tr>\n",
              "  </tbody>\n",
              "</table>\n",
              "</div>"
            ],
            "text/plain": [
              "   ID  LIMIT_BAL  SEX  EDUCATION  ...  PAY_AMT4  PAY_AMT5  PAY_AMT6  DEFAULTED\n",
              "0   1    20000.0    2          2  ...       0.0       0.0       0.0          1\n",
              "1   2   120000.0    2          2  ...    1000.0       0.0    2000.0          1\n",
              "2   3    90000.0    2          2  ...    1000.0    1000.0    5000.0          0\n",
              "3   4    50000.0    2          2  ...    1100.0    1069.0    1000.0          0\n",
              "4   5    50000.0    1          2  ...    9000.0     689.0     679.0          0\n",
              "\n",
              "[5 rows x 25 columns]"
            ]
          },
          "metadata": {
            "tags": []
          },
          "execution_count": 5
        }
      ]
    },
    {
      "cell_type": "markdown",
      "metadata": {
        "id": "28wuGIlb2jzT",
        "colab_type": "text"
      },
      "source": [
        "## Análise Exploratória Inicial"
      ]
    },
    {
      "cell_type": "markdown",
      "metadata": {
        "id": "zV8mtqOlkXJC",
        "colab_type": "text"
      },
      "source": [
        "### Verificação de Consistência das Features"
      ]
    },
    {
      "cell_type": "code",
      "metadata": {
        "id": "VmmCS2WHjL7P",
        "colab_type": "code",
        "colab": {
          "base_uri": "https://localhost:8080/",
          "height": 300
        },
        "outputId": "d6687cef-4acb-4776-8eeb-a76419fc9c5e"
      },
      "source": [
        "df[['LIMIT_BAL', 'AGE']].describe()"
      ],
      "execution_count": 6,
      "outputs": [
        {
          "output_type": "execute_result",
          "data": {
            "text/html": [
              "<div>\n",
              "<style scoped>\n",
              "    .dataframe tbody tr th:only-of-type {\n",
              "        vertical-align: middle;\n",
              "    }\n",
              "\n",
              "    .dataframe tbody tr th {\n",
              "        vertical-align: top;\n",
              "    }\n",
              "\n",
              "    .dataframe thead th {\n",
              "        text-align: right;\n",
              "    }\n",
              "</style>\n",
              "<table border=\"1\" class=\"dataframe\">\n",
              "  <thead>\n",
              "    <tr style=\"text-align: right;\">\n",
              "      <th></th>\n",
              "      <th>LIMIT_BAL</th>\n",
              "      <th>AGE</th>\n",
              "    </tr>\n",
              "  </thead>\n",
              "  <tbody>\n",
              "    <tr>\n",
              "      <th>count</th>\n",
              "      <td>30000.000000</td>\n",
              "      <td>30000.000000</td>\n",
              "    </tr>\n",
              "    <tr>\n",
              "      <th>mean</th>\n",
              "      <td>167484.322667</td>\n",
              "      <td>35.485500</td>\n",
              "    </tr>\n",
              "    <tr>\n",
              "      <th>std</th>\n",
              "      <td>129747.661567</td>\n",
              "      <td>9.217904</td>\n",
              "    </tr>\n",
              "    <tr>\n",
              "      <th>min</th>\n",
              "      <td>10000.000000</td>\n",
              "      <td>21.000000</td>\n",
              "    </tr>\n",
              "    <tr>\n",
              "      <th>25%</th>\n",
              "      <td>50000.000000</td>\n",
              "      <td>28.000000</td>\n",
              "    </tr>\n",
              "    <tr>\n",
              "      <th>50%</th>\n",
              "      <td>140000.000000</td>\n",
              "      <td>34.000000</td>\n",
              "    </tr>\n",
              "    <tr>\n",
              "      <th>75%</th>\n",
              "      <td>240000.000000</td>\n",
              "      <td>41.000000</td>\n",
              "    </tr>\n",
              "    <tr>\n",
              "      <th>max</th>\n",
              "      <td>1000000.000000</td>\n",
              "      <td>79.000000</td>\n",
              "    </tr>\n",
              "  </tbody>\n",
              "</table>\n",
              "</div>"
            ],
            "text/plain": [
              "            LIMIT_BAL           AGE\n",
              "count    30000.000000  30000.000000\n",
              "mean    167484.322667     35.485500\n",
              "std     129747.661567      9.217904\n",
              "min      10000.000000     21.000000\n",
              "25%      50000.000000     28.000000\n",
              "50%     140000.000000     34.000000\n",
              "75%     240000.000000     41.000000\n",
              "max    1000000.000000     79.000000"
            ]
          },
          "metadata": {
            "tags": []
          },
          "execution_count": 6
        }
      ]
    },
    {
      "cell_type": "markdown",
      "metadata": {
        "id": "-Xj9ohoYkgUh",
        "colab_type": "text"
      },
      "source": [
        "A feature `LIMIT_BAL`, que indica o limite de crédito do cartão, varia de 10.000 a 1.000.000 NT Dólares, e a idade varia de 21 a 79 anos.\n"
      ]
    },
    {
      "cell_type": "code",
      "metadata": {
        "id": "AEmCs1BsjVE5",
        "colab_type": "code",
        "colab": {
          "base_uri": "https://localhost:8080/",
          "height": 300
        },
        "outputId": "fe548e7f-d59c-4ea2-c52e-4c516431e1a4"
      },
      "source": [
        "df[['PAY_1', 'PAY_2', 'PAY_3', 'PAY_4', 'PAY_5', 'PAY_6']].describe()"
      ],
      "execution_count": 7,
      "outputs": [
        {
          "output_type": "execute_result",
          "data": {
            "text/html": [
              "<div>\n",
              "<style scoped>\n",
              "    .dataframe tbody tr th:only-of-type {\n",
              "        vertical-align: middle;\n",
              "    }\n",
              "\n",
              "    .dataframe tbody tr th {\n",
              "        vertical-align: top;\n",
              "    }\n",
              "\n",
              "    .dataframe thead th {\n",
              "        text-align: right;\n",
              "    }\n",
              "</style>\n",
              "<table border=\"1\" class=\"dataframe\">\n",
              "  <thead>\n",
              "    <tr style=\"text-align: right;\">\n",
              "      <th></th>\n",
              "      <th>PAY_1</th>\n",
              "      <th>PAY_2</th>\n",
              "      <th>PAY_3</th>\n",
              "      <th>PAY_4</th>\n",
              "      <th>PAY_5</th>\n",
              "      <th>PAY_6</th>\n",
              "    </tr>\n",
              "  </thead>\n",
              "  <tbody>\n",
              "    <tr>\n",
              "      <th>count</th>\n",
              "      <td>30000.000000</td>\n",
              "      <td>30000.000000</td>\n",
              "      <td>30000.000000</td>\n",
              "      <td>30000.000000</td>\n",
              "      <td>30000.000000</td>\n",
              "      <td>30000.000000</td>\n",
              "    </tr>\n",
              "    <tr>\n",
              "      <th>mean</th>\n",
              "      <td>-0.016700</td>\n",
              "      <td>-0.133767</td>\n",
              "      <td>-0.166200</td>\n",
              "      <td>-0.220667</td>\n",
              "      <td>-0.266200</td>\n",
              "      <td>-0.291100</td>\n",
              "    </tr>\n",
              "    <tr>\n",
              "      <th>std</th>\n",
              "      <td>1.123802</td>\n",
              "      <td>1.197186</td>\n",
              "      <td>1.196868</td>\n",
              "      <td>1.169139</td>\n",
              "      <td>1.133187</td>\n",
              "      <td>1.149988</td>\n",
              "    </tr>\n",
              "    <tr>\n",
              "      <th>min</th>\n",
              "      <td>-2.000000</td>\n",
              "      <td>-2.000000</td>\n",
              "      <td>-2.000000</td>\n",
              "      <td>-2.000000</td>\n",
              "      <td>-2.000000</td>\n",
              "      <td>-2.000000</td>\n",
              "    </tr>\n",
              "    <tr>\n",
              "      <th>25%</th>\n",
              "      <td>-1.000000</td>\n",
              "      <td>-1.000000</td>\n",
              "      <td>-1.000000</td>\n",
              "      <td>-1.000000</td>\n",
              "      <td>-1.000000</td>\n",
              "      <td>-1.000000</td>\n",
              "    </tr>\n",
              "    <tr>\n",
              "      <th>50%</th>\n",
              "      <td>0.000000</td>\n",
              "      <td>0.000000</td>\n",
              "      <td>0.000000</td>\n",
              "      <td>0.000000</td>\n",
              "      <td>0.000000</td>\n",
              "      <td>0.000000</td>\n",
              "    </tr>\n",
              "    <tr>\n",
              "      <th>75%</th>\n",
              "      <td>0.000000</td>\n",
              "      <td>0.000000</td>\n",
              "      <td>0.000000</td>\n",
              "      <td>0.000000</td>\n",
              "      <td>0.000000</td>\n",
              "      <td>0.000000</td>\n",
              "    </tr>\n",
              "    <tr>\n",
              "      <th>max</th>\n",
              "      <td>8.000000</td>\n",
              "      <td>8.000000</td>\n",
              "      <td>8.000000</td>\n",
              "      <td>8.000000</td>\n",
              "      <td>8.000000</td>\n",
              "      <td>8.000000</td>\n",
              "    </tr>\n",
              "  </tbody>\n",
              "</table>\n",
              "</div>"
            ],
            "text/plain": [
              "              PAY_1         PAY_2  ...         PAY_5         PAY_6\n",
              "count  30000.000000  30000.000000  ...  30000.000000  30000.000000\n",
              "mean      -0.016700     -0.133767  ...     -0.266200     -0.291100\n",
              "std        1.123802      1.197186  ...      1.133187      1.149988\n",
              "min       -2.000000     -2.000000  ...     -2.000000     -2.000000\n",
              "25%       -1.000000     -1.000000  ...     -1.000000     -1.000000\n",
              "50%        0.000000      0.000000  ...      0.000000      0.000000\n",
              "75%        0.000000      0.000000  ...      0.000000      0.000000\n",
              "max        8.000000      8.000000  ...      8.000000      8.000000\n",
              "\n",
              "[8 rows x 6 columns]"
            ]
          },
          "metadata": {
            "tags": []
          },
          "execution_count": 7
        }
      ]
    },
    {
      "cell_type": "code",
      "metadata": {
        "id": "9o2mVz2yoVck",
        "colab_type": "code",
        "colab": {
          "base_uri": "https://localhost:8080/",
          "height": 394
        },
        "outputId": "04b95ef8-8f3c-4baf-ff92-a9eb1566800b"
      },
      "source": [
        "df[['PAY_1', 'PAY_2', 'PAY_3', 'PAY_4', 'PAY_5', 'PAY_6']].apply(pd.Series.value_counts).fillna(0).astype(int)"
      ],
      "execution_count": 8,
      "outputs": [
        {
          "output_type": "execute_result",
          "data": {
            "text/html": [
              "<div>\n",
              "<style scoped>\n",
              "    .dataframe tbody tr th:only-of-type {\n",
              "        vertical-align: middle;\n",
              "    }\n",
              "\n",
              "    .dataframe tbody tr th {\n",
              "        vertical-align: top;\n",
              "    }\n",
              "\n",
              "    .dataframe thead th {\n",
              "        text-align: right;\n",
              "    }\n",
              "</style>\n",
              "<table border=\"1\" class=\"dataframe\">\n",
              "  <thead>\n",
              "    <tr style=\"text-align: right;\">\n",
              "      <th></th>\n",
              "      <th>PAY_1</th>\n",
              "      <th>PAY_2</th>\n",
              "      <th>PAY_3</th>\n",
              "      <th>PAY_4</th>\n",
              "      <th>PAY_5</th>\n",
              "      <th>PAY_6</th>\n",
              "    </tr>\n",
              "  </thead>\n",
              "  <tbody>\n",
              "    <tr>\n",
              "      <th>-2</th>\n",
              "      <td>2759</td>\n",
              "      <td>3782</td>\n",
              "      <td>4085</td>\n",
              "      <td>4348</td>\n",
              "      <td>4546</td>\n",
              "      <td>4895</td>\n",
              "    </tr>\n",
              "    <tr>\n",
              "      <th>-1</th>\n",
              "      <td>5686</td>\n",
              "      <td>6050</td>\n",
              "      <td>5938</td>\n",
              "      <td>5687</td>\n",
              "      <td>5539</td>\n",
              "      <td>5740</td>\n",
              "    </tr>\n",
              "    <tr>\n",
              "      <th>0</th>\n",
              "      <td>14737</td>\n",
              "      <td>15730</td>\n",
              "      <td>15764</td>\n",
              "      <td>16455</td>\n",
              "      <td>16947</td>\n",
              "      <td>16286</td>\n",
              "    </tr>\n",
              "    <tr>\n",
              "      <th>1</th>\n",
              "      <td>3688</td>\n",
              "      <td>28</td>\n",
              "      <td>4</td>\n",
              "      <td>2</td>\n",
              "      <td>0</td>\n",
              "      <td>0</td>\n",
              "    </tr>\n",
              "    <tr>\n",
              "      <th>2</th>\n",
              "      <td>2667</td>\n",
              "      <td>3927</td>\n",
              "      <td>3819</td>\n",
              "      <td>3159</td>\n",
              "      <td>2626</td>\n",
              "      <td>2766</td>\n",
              "    </tr>\n",
              "    <tr>\n",
              "      <th>3</th>\n",
              "      <td>322</td>\n",
              "      <td>326</td>\n",
              "      <td>240</td>\n",
              "      <td>180</td>\n",
              "      <td>178</td>\n",
              "      <td>184</td>\n",
              "    </tr>\n",
              "    <tr>\n",
              "      <th>4</th>\n",
              "      <td>76</td>\n",
              "      <td>99</td>\n",
              "      <td>76</td>\n",
              "      <td>69</td>\n",
              "      <td>84</td>\n",
              "      <td>49</td>\n",
              "    </tr>\n",
              "    <tr>\n",
              "      <th>5</th>\n",
              "      <td>26</td>\n",
              "      <td>25</td>\n",
              "      <td>21</td>\n",
              "      <td>35</td>\n",
              "      <td>17</td>\n",
              "      <td>13</td>\n",
              "    </tr>\n",
              "    <tr>\n",
              "      <th>6</th>\n",
              "      <td>11</td>\n",
              "      <td>12</td>\n",
              "      <td>23</td>\n",
              "      <td>5</td>\n",
              "      <td>4</td>\n",
              "      <td>19</td>\n",
              "    </tr>\n",
              "    <tr>\n",
              "      <th>7</th>\n",
              "      <td>9</td>\n",
              "      <td>20</td>\n",
              "      <td>27</td>\n",
              "      <td>58</td>\n",
              "      <td>58</td>\n",
              "      <td>46</td>\n",
              "    </tr>\n",
              "    <tr>\n",
              "      <th>8</th>\n",
              "      <td>19</td>\n",
              "      <td>1</td>\n",
              "      <td>3</td>\n",
              "      <td>2</td>\n",
              "      <td>1</td>\n",
              "      <td>2</td>\n",
              "    </tr>\n",
              "  </tbody>\n",
              "</table>\n",
              "</div>"
            ],
            "text/plain": [
              "    PAY_1  PAY_2  PAY_3  PAY_4  PAY_5  PAY_6\n",
              "-2   2759   3782   4085   4348   4546   4895\n",
              "-1   5686   6050   5938   5687   5539   5740\n",
              " 0  14737  15730  15764  16455  16947  16286\n",
              " 1   3688     28      4      2      0      0\n",
              " 2   2667   3927   3819   3159   2626   2766\n",
              " 3    322    326    240    180    178    184\n",
              " 4     76     99     76     69     84     49\n",
              " 5     26     25     21     35     17     13\n",
              " 6     11     12     23      5      4     19\n",
              " 7      9     20     27     58     58     46\n",
              " 8     19      1      3      2      1      2"
            ]
          },
          "metadata": {
            "tags": []
          },
          "execution_count": 8
        }
      ]
    },
    {
      "cell_type": "markdown",
      "metadata": {
        "id": "wCcmkw9DlQ8P",
        "colab_type": "text"
      },
      "source": [
        "**Features PAY_X**\n",
        "\n",
        "As features `PAY_X` indicam o pagamento dos meses de Setembro de 2005 a Abril 2005, onde podem assumir os seguintes valores:\n",
        "\n",
        "* **`-1:`** pago devidamente\n",
        "* **`1:`** atraso no pagamento de 1 mês\n",
        "* **`2:`** atraso no pagamento de 2 meses\n",
        "* **`X:`** atraso no pagamento de X meses (limite superior = 9)\n",
        "\n",
        "**Problemas encontrados:**\n",
        "\n",
        "*   Valores -2 e 0, sem documentação\n",
        "\n",
        "\n",
        "\n"
      ]
    },
    {
      "cell_type": "code",
      "metadata": {
        "id": "oTOLAb5Wjctl",
        "colab_type": "code",
        "colab": {
          "base_uri": "https://localhost:8080/",
          "height": 300
        },
        "outputId": "5ddc8e46-d66c-4b4e-84ee-51427d53e616"
      },
      "source": [
        "df[['BILL_AMT1', 'BILL_AMT2', 'BILL_AMT3', 'BILL_AMT4', 'BILL_AMT5', 'BILL_AMT6']].describe()"
      ],
      "execution_count": 9,
      "outputs": [
        {
          "output_type": "execute_result",
          "data": {
            "text/html": [
              "<div>\n",
              "<style scoped>\n",
              "    .dataframe tbody tr th:only-of-type {\n",
              "        vertical-align: middle;\n",
              "    }\n",
              "\n",
              "    .dataframe tbody tr th {\n",
              "        vertical-align: top;\n",
              "    }\n",
              "\n",
              "    .dataframe thead th {\n",
              "        text-align: right;\n",
              "    }\n",
              "</style>\n",
              "<table border=\"1\" class=\"dataframe\">\n",
              "  <thead>\n",
              "    <tr style=\"text-align: right;\">\n",
              "      <th></th>\n",
              "      <th>BILL_AMT1</th>\n",
              "      <th>BILL_AMT2</th>\n",
              "      <th>BILL_AMT3</th>\n",
              "      <th>BILL_AMT4</th>\n",
              "      <th>BILL_AMT5</th>\n",
              "      <th>BILL_AMT6</th>\n",
              "    </tr>\n",
              "  </thead>\n",
              "  <tbody>\n",
              "    <tr>\n",
              "      <th>count</th>\n",
              "      <td>30000.000000</td>\n",
              "      <td>30000.000000</td>\n",
              "      <td>3.000000e+04</td>\n",
              "      <td>30000.000000</td>\n",
              "      <td>30000.000000</td>\n",
              "      <td>30000.000000</td>\n",
              "    </tr>\n",
              "    <tr>\n",
              "      <th>mean</th>\n",
              "      <td>51223.330900</td>\n",
              "      <td>49179.075167</td>\n",
              "      <td>4.701315e+04</td>\n",
              "      <td>43262.948967</td>\n",
              "      <td>40311.400967</td>\n",
              "      <td>38871.760400</td>\n",
              "    </tr>\n",
              "    <tr>\n",
              "      <th>std</th>\n",
              "      <td>73635.860576</td>\n",
              "      <td>71173.768783</td>\n",
              "      <td>6.934939e+04</td>\n",
              "      <td>64332.856134</td>\n",
              "      <td>60797.155770</td>\n",
              "      <td>59554.107537</td>\n",
              "    </tr>\n",
              "    <tr>\n",
              "      <th>min</th>\n",
              "      <td>-165580.000000</td>\n",
              "      <td>-69777.000000</td>\n",
              "      <td>-1.572640e+05</td>\n",
              "      <td>-170000.000000</td>\n",
              "      <td>-81334.000000</td>\n",
              "      <td>-339603.000000</td>\n",
              "    </tr>\n",
              "    <tr>\n",
              "      <th>25%</th>\n",
              "      <td>3558.750000</td>\n",
              "      <td>2984.750000</td>\n",
              "      <td>2.666250e+03</td>\n",
              "      <td>2326.750000</td>\n",
              "      <td>1763.000000</td>\n",
              "      <td>1256.000000</td>\n",
              "    </tr>\n",
              "    <tr>\n",
              "      <th>50%</th>\n",
              "      <td>22381.500000</td>\n",
              "      <td>21200.000000</td>\n",
              "      <td>2.008850e+04</td>\n",
              "      <td>19052.000000</td>\n",
              "      <td>18104.500000</td>\n",
              "      <td>17071.000000</td>\n",
              "    </tr>\n",
              "    <tr>\n",
              "      <th>75%</th>\n",
              "      <td>67091.000000</td>\n",
              "      <td>64006.250000</td>\n",
              "      <td>6.016475e+04</td>\n",
              "      <td>54506.000000</td>\n",
              "      <td>50190.500000</td>\n",
              "      <td>49198.250000</td>\n",
              "    </tr>\n",
              "    <tr>\n",
              "      <th>max</th>\n",
              "      <td>964511.000000</td>\n",
              "      <td>983931.000000</td>\n",
              "      <td>1.664089e+06</td>\n",
              "      <td>891586.000000</td>\n",
              "      <td>927171.000000</td>\n",
              "      <td>961664.000000</td>\n",
              "    </tr>\n",
              "  </tbody>\n",
              "</table>\n",
              "</div>"
            ],
            "text/plain": [
              "           BILL_AMT1      BILL_AMT2  ...      BILL_AMT5      BILL_AMT6\n",
              "count   30000.000000   30000.000000  ...   30000.000000   30000.000000\n",
              "mean    51223.330900   49179.075167  ...   40311.400967   38871.760400\n",
              "std     73635.860576   71173.768783  ...   60797.155770   59554.107537\n",
              "min   -165580.000000  -69777.000000  ...  -81334.000000 -339603.000000\n",
              "25%      3558.750000    2984.750000  ...    1763.000000    1256.000000\n",
              "50%     22381.500000   21200.000000  ...   18104.500000   17071.000000\n",
              "75%     67091.000000   64006.250000  ...   50190.500000   49198.250000\n",
              "max    964511.000000  983931.000000  ...  927171.000000  961664.000000\n",
              "\n",
              "[8 rows x 6 columns]"
            ]
          },
          "metadata": {
            "tags": []
          },
          "execution_count": 9
        }
      ]
    },
    {
      "cell_type": "markdown",
      "metadata": {
        "id": "unAQPav7pskG",
        "colab_type": "text"
      },
      "source": [
        "**Features BILL_AMTX**\n",
        "\n",
        "As features `BILL_AMTX` indicam o valor da fatura do cartão de crédito nos meses de Setembro 2005 (BILL_AMT1) a Abril 2005 (BILL_AMT6)\n",
        "\n",
        "**Problemas encontrados:**\n",
        "\n",
        "* Foram encontrados valores negativos em todos os meses."
      ]
    },
    {
      "cell_type": "code",
      "metadata": {
        "id": "tWH5iCO9tWvX",
        "colab_type": "code",
        "colab": {
          "base_uri": "https://localhost:8080/",
          "height": 300
        },
        "outputId": "560ba816-280b-45d5-a5f0-3de9c76dcec7"
      },
      "source": [
        "df[['PAY_AMT1', 'PAY_AMT2', 'PAY_AMT3', 'PAY_AMT4', 'PAY_AMT5', 'PAY_AMT6']].describe()"
      ],
      "execution_count": 10,
      "outputs": [
        {
          "output_type": "execute_result",
          "data": {
            "text/html": [
              "<div>\n",
              "<style scoped>\n",
              "    .dataframe tbody tr th:only-of-type {\n",
              "        vertical-align: middle;\n",
              "    }\n",
              "\n",
              "    .dataframe tbody tr th {\n",
              "        vertical-align: top;\n",
              "    }\n",
              "\n",
              "    .dataframe thead th {\n",
              "        text-align: right;\n",
              "    }\n",
              "</style>\n",
              "<table border=\"1\" class=\"dataframe\">\n",
              "  <thead>\n",
              "    <tr style=\"text-align: right;\">\n",
              "      <th></th>\n",
              "      <th>PAY_AMT1</th>\n",
              "      <th>PAY_AMT2</th>\n",
              "      <th>PAY_AMT3</th>\n",
              "      <th>PAY_AMT4</th>\n",
              "      <th>PAY_AMT5</th>\n",
              "      <th>PAY_AMT6</th>\n",
              "    </tr>\n",
              "  </thead>\n",
              "  <tbody>\n",
              "    <tr>\n",
              "      <th>count</th>\n",
              "      <td>30000.000000</td>\n",
              "      <td>3.000000e+04</td>\n",
              "      <td>30000.00000</td>\n",
              "      <td>30000.000000</td>\n",
              "      <td>30000.000000</td>\n",
              "      <td>30000.000000</td>\n",
              "    </tr>\n",
              "    <tr>\n",
              "      <th>mean</th>\n",
              "      <td>5663.580500</td>\n",
              "      <td>5.921163e+03</td>\n",
              "      <td>5225.68150</td>\n",
              "      <td>4826.076867</td>\n",
              "      <td>4799.387633</td>\n",
              "      <td>5215.502567</td>\n",
              "    </tr>\n",
              "    <tr>\n",
              "      <th>std</th>\n",
              "      <td>16563.280354</td>\n",
              "      <td>2.304087e+04</td>\n",
              "      <td>17606.96147</td>\n",
              "      <td>15666.159744</td>\n",
              "      <td>15278.305679</td>\n",
              "      <td>17777.465775</td>\n",
              "    </tr>\n",
              "    <tr>\n",
              "      <th>min</th>\n",
              "      <td>0.000000</td>\n",
              "      <td>0.000000e+00</td>\n",
              "      <td>0.00000</td>\n",
              "      <td>0.000000</td>\n",
              "      <td>0.000000</td>\n",
              "      <td>0.000000</td>\n",
              "    </tr>\n",
              "    <tr>\n",
              "      <th>25%</th>\n",
              "      <td>1000.000000</td>\n",
              "      <td>8.330000e+02</td>\n",
              "      <td>390.00000</td>\n",
              "      <td>296.000000</td>\n",
              "      <td>252.500000</td>\n",
              "      <td>117.750000</td>\n",
              "    </tr>\n",
              "    <tr>\n",
              "      <th>50%</th>\n",
              "      <td>2100.000000</td>\n",
              "      <td>2.009000e+03</td>\n",
              "      <td>1800.00000</td>\n",
              "      <td>1500.000000</td>\n",
              "      <td>1500.000000</td>\n",
              "      <td>1500.000000</td>\n",
              "    </tr>\n",
              "    <tr>\n",
              "      <th>75%</th>\n",
              "      <td>5006.000000</td>\n",
              "      <td>5.000000e+03</td>\n",
              "      <td>4505.00000</td>\n",
              "      <td>4013.250000</td>\n",
              "      <td>4031.500000</td>\n",
              "      <td>4000.000000</td>\n",
              "    </tr>\n",
              "    <tr>\n",
              "      <th>max</th>\n",
              "      <td>873552.000000</td>\n",
              "      <td>1.684259e+06</td>\n",
              "      <td>896040.00000</td>\n",
              "      <td>621000.000000</td>\n",
              "      <td>426529.000000</td>\n",
              "      <td>528666.000000</td>\n",
              "    </tr>\n",
              "  </tbody>\n",
              "</table>\n",
              "</div>"
            ],
            "text/plain": [
              "            PAY_AMT1      PAY_AMT2  ...       PAY_AMT5       PAY_AMT6\n",
              "count   30000.000000  3.000000e+04  ...   30000.000000   30000.000000\n",
              "mean     5663.580500  5.921163e+03  ...    4799.387633    5215.502567\n",
              "std     16563.280354  2.304087e+04  ...   15278.305679   17777.465775\n",
              "min         0.000000  0.000000e+00  ...       0.000000       0.000000\n",
              "25%      1000.000000  8.330000e+02  ...     252.500000     117.750000\n",
              "50%      2100.000000  2.009000e+03  ...    1500.000000    1500.000000\n",
              "75%      5006.000000  5.000000e+03  ...    4031.500000    4000.000000\n",
              "max    873552.000000  1.684259e+06  ...  426529.000000  528666.000000\n",
              "\n",
              "[8 rows x 6 columns]"
            ]
          },
          "metadata": {
            "tags": []
          },
          "execution_count": 10
        }
      ]
    },
    {
      "cell_type": "code",
      "metadata": {
        "id": "ZjE86XK1i_0d",
        "colab_type": "code",
        "colab": {
          "base_uri": "https://localhost:8080/",
          "height": 300
        },
        "outputId": "9b8324c9-38f8-4640-deab-0b83f5177527"
      },
      "source": [
        "df[['SEX','EDUCATION', 'MARRIAGE']].describe()"
      ],
      "execution_count": 11,
      "outputs": [
        {
          "output_type": "execute_result",
          "data": {
            "text/html": [
              "<div>\n",
              "<style scoped>\n",
              "    .dataframe tbody tr th:only-of-type {\n",
              "        vertical-align: middle;\n",
              "    }\n",
              "\n",
              "    .dataframe tbody tr th {\n",
              "        vertical-align: top;\n",
              "    }\n",
              "\n",
              "    .dataframe thead th {\n",
              "        text-align: right;\n",
              "    }\n",
              "</style>\n",
              "<table border=\"1\" class=\"dataframe\">\n",
              "  <thead>\n",
              "    <tr style=\"text-align: right;\">\n",
              "      <th></th>\n",
              "      <th>SEX</th>\n",
              "      <th>EDUCATION</th>\n",
              "      <th>MARRIAGE</th>\n",
              "    </tr>\n",
              "  </thead>\n",
              "  <tbody>\n",
              "    <tr>\n",
              "      <th>count</th>\n",
              "      <td>30000.000000</td>\n",
              "      <td>30000.000000</td>\n",
              "      <td>30000.000000</td>\n",
              "    </tr>\n",
              "    <tr>\n",
              "      <th>mean</th>\n",
              "      <td>1.603733</td>\n",
              "      <td>1.853133</td>\n",
              "      <td>1.551867</td>\n",
              "    </tr>\n",
              "    <tr>\n",
              "      <th>std</th>\n",
              "      <td>0.489129</td>\n",
              "      <td>0.790349</td>\n",
              "      <td>0.521970</td>\n",
              "    </tr>\n",
              "    <tr>\n",
              "      <th>min</th>\n",
              "      <td>1.000000</td>\n",
              "      <td>0.000000</td>\n",
              "      <td>0.000000</td>\n",
              "    </tr>\n",
              "    <tr>\n",
              "      <th>25%</th>\n",
              "      <td>1.000000</td>\n",
              "      <td>1.000000</td>\n",
              "      <td>1.000000</td>\n",
              "    </tr>\n",
              "    <tr>\n",
              "      <th>50%</th>\n",
              "      <td>2.000000</td>\n",
              "      <td>2.000000</td>\n",
              "      <td>2.000000</td>\n",
              "    </tr>\n",
              "    <tr>\n",
              "      <th>75%</th>\n",
              "      <td>2.000000</td>\n",
              "      <td>2.000000</td>\n",
              "      <td>2.000000</td>\n",
              "    </tr>\n",
              "    <tr>\n",
              "      <th>max</th>\n",
              "      <td>2.000000</td>\n",
              "      <td>6.000000</td>\n",
              "      <td>3.000000</td>\n",
              "    </tr>\n",
              "  </tbody>\n",
              "</table>\n",
              "</div>"
            ],
            "text/plain": [
              "                SEX     EDUCATION      MARRIAGE\n",
              "count  30000.000000  30000.000000  30000.000000\n",
              "mean       1.603733      1.853133      1.551867\n",
              "std        0.489129      0.790349      0.521970\n",
              "min        1.000000      0.000000      0.000000\n",
              "25%        1.000000      1.000000      1.000000\n",
              "50%        2.000000      2.000000      2.000000\n",
              "75%        2.000000      2.000000      2.000000\n",
              "max        2.000000      6.000000      3.000000"
            ]
          },
          "metadata": {
            "tags": []
          },
          "execution_count": 11
        }
      ]
    },
    {
      "cell_type": "code",
      "metadata": {
        "id": "QdFj0_kprIKV",
        "colab_type": "code",
        "colab": {
          "base_uri": "https://localhost:8080/",
          "height": 269
        },
        "outputId": "e66a082f-5869-4ad7-e5c9-22f2aa3d5677"
      },
      "source": [
        "df[['SEX','EDUCATION', 'MARRIAGE']].apply(pd.Series.value_counts).fillna(0).astype(int)"
      ],
      "execution_count": 12,
      "outputs": [
        {
          "output_type": "execute_result",
          "data": {
            "text/html": [
              "<div>\n",
              "<style scoped>\n",
              "    .dataframe tbody tr th:only-of-type {\n",
              "        vertical-align: middle;\n",
              "    }\n",
              "\n",
              "    .dataframe tbody tr th {\n",
              "        vertical-align: top;\n",
              "    }\n",
              "\n",
              "    .dataframe thead th {\n",
              "        text-align: right;\n",
              "    }\n",
              "</style>\n",
              "<table border=\"1\" class=\"dataframe\">\n",
              "  <thead>\n",
              "    <tr style=\"text-align: right;\">\n",
              "      <th></th>\n",
              "      <th>SEX</th>\n",
              "      <th>EDUCATION</th>\n",
              "      <th>MARRIAGE</th>\n",
              "    </tr>\n",
              "  </thead>\n",
              "  <tbody>\n",
              "    <tr>\n",
              "      <th>0</th>\n",
              "      <td>0</td>\n",
              "      <td>14</td>\n",
              "      <td>54</td>\n",
              "    </tr>\n",
              "    <tr>\n",
              "      <th>1</th>\n",
              "      <td>11888</td>\n",
              "      <td>10585</td>\n",
              "      <td>13659</td>\n",
              "    </tr>\n",
              "    <tr>\n",
              "      <th>2</th>\n",
              "      <td>18112</td>\n",
              "      <td>14030</td>\n",
              "      <td>15964</td>\n",
              "    </tr>\n",
              "    <tr>\n",
              "      <th>3</th>\n",
              "      <td>0</td>\n",
              "      <td>4917</td>\n",
              "      <td>323</td>\n",
              "    </tr>\n",
              "    <tr>\n",
              "      <th>4</th>\n",
              "      <td>0</td>\n",
              "      <td>123</td>\n",
              "      <td>0</td>\n",
              "    </tr>\n",
              "    <tr>\n",
              "      <th>5</th>\n",
              "      <td>0</td>\n",
              "      <td>280</td>\n",
              "      <td>0</td>\n",
              "    </tr>\n",
              "    <tr>\n",
              "      <th>6</th>\n",
              "      <td>0</td>\n",
              "      <td>51</td>\n",
              "      <td>0</td>\n",
              "    </tr>\n",
              "  </tbody>\n",
              "</table>\n",
              "</div>"
            ],
            "text/plain": [
              "     SEX  EDUCATION  MARRIAGE\n",
              "0      0         14        54\n",
              "1  11888      10585     13659\n",
              "2  18112      14030     15964\n",
              "3      0       4917       323\n",
              "4      0        123         0\n",
              "5      0        280         0\n",
              "6      0         51         0"
            ]
          },
          "metadata": {
            "tags": []
          },
          "execution_count": 12
        }
      ]
    },
    {
      "cell_type": "markdown",
      "metadata": {
        "id": "NoW9A2LNkdDY",
        "colab_type": "text"
      },
      "source": [
        "**Features SEX, EDUCATION e MARRIAGE**\n",
        "\n",
        "* **`SEX:`** indica o gênero do cliente (1: masculino, 2: feminino)\n",
        "* **`EDUCATION:`** nível de educação do cliente (1: graduate school, 2: university, 3: high school, 4: others, 5: desconhecido, 6: desconhecido)\n",
        "* **`MARRIAGE:`** status marital (1: casado, 2: solteiro, 3: outros)\n",
        "\n",
        "**Problemas Encontrados:**\n",
        "\n",
        "* Valores não documentados para **`EDUCATION`** (0, 5, e 6)\n",
        "* Valores não documentados para **`MARRIAGE`** (0)"
      ]
    },
    {
      "cell_type": "code",
      "metadata": {
        "id": "biKU923Itrsv",
        "colab_type": "code",
        "colab": {
          "base_uri": "https://localhost:8080/",
          "height": 72
        },
        "outputId": "b517eeb1-785c-41e8-8560-008a9c54290f"
      },
      "source": [
        "df['DEFAULTED'].value_counts()"
      ],
      "execution_count": 13,
      "outputs": [
        {
          "output_type": "execute_result",
          "data": {
            "text/plain": [
              "0    23364\n",
              "1     6636\n",
              "Name: DEFAULTED, dtype: int64"
            ]
          },
          "metadata": {
            "tags": []
          },
          "execution_count": 13
        }
      ]
    },
    {
      "cell_type": "markdown",
      "metadata": {
        "id": "thgaWmMwtDtI",
        "colab_type": "text"
      },
      "source": [
        "### Investigação da Distribuição dos Dados"
      ]
    },
    {
      "cell_type": "code",
      "metadata": {
        "id": "AYURtePItHx1",
        "colab_type": "code",
        "colab": {
          "base_uri": "https://localhost:8080/",
          "height": 265
        },
        "outputId": "43529768-c524-4c91-f895-ca92a93fffb9"
      },
      "source": [
        "df['DEFAULTED'].value_counts().plot(kind='bar');"
      ],
      "execution_count": 14,
      "outputs": [
        {
          "output_type": "display_data",
          "data": {
            "image/png": "[encoded data removed]",
            "text/plain": [
              "<Figure size 432x288 with 1 Axes>"
            ]
          },
          "metadata": {
            "tags": []
          }
        }
      ]
    },
    {
      "cell_type": "markdown",
      "metadata": {
        "id": "zdiVHmfRDYyA",
        "colab_type": "text"
      },
      "source": [
        "## Pivotamento (para análise futura)\n",
        "\n",
        "Para facilitar a análise de evolução no tempo das colunas PAY_N, BILL_AMTN e PAY_AMTN, definimos o método abaixo para fazer o pivotamento das informações:"
      ]
    },
    {
      "cell_type": "code",
      "metadata": {
        "id": "EGqiJUoZDX7U",
        "colab_type": "code",
        "colab": {}
      },
      "source": [
        "def pivotAgg(row1):\n",
        "    res = np.concatenate( ( \n",
        "        [row1[['ID', 'LIMIT_BAL', 'SEX', 'EDUCATION', 'MARRIAGE', 'AGE', 'PAY_1','BILL_AMT1','PAY_AMT1','DEFAULTED']].append(pd.Series({'DATE':date(2005,9,1)}))],\n",
        "        [row1[['ID', 'LIMIT_BAL', 'SEX', 'EDUCATION', 'MARRIAGE', 'AGE', 'PAY_2','BILL_AMT2','PAY_AMT2','DEFAULTED']].append(pd.Series({'DATE':date(2005,8,1)}))],\n",
        "        [row1[['ID', 'LIMIT_BAL', 'SEX', 'EDUCATION', 'MARRIAGE', 'AGE', 'PAY_3','BILL_AMT3','PAY_AMT3','DEFAULTED']].append(pd.Series({'DATE':date(2005,7,1)}))],\n",
        "        [row1[['ID', 'LIMIT_BAL', 'SEX', 'EDUCATION', 'MARRIAGE', 'AGE', 'PAY_4','BILL_AMT4','PAY_AMT4','DEFAULTED']].append(pd.Series({'DATE':date(2005,6,1)}))],\n",
        "        [row1[['ID', 'LIMIT_BAL', 'SEX', 'EDUCATION', 'MARRIAGE', 'AGE', 'PAY_5','BILL_AMT5','PAY_AMT5','DEFAULTED']].append(pd.Series({'DATE':date(2005,5,1)}))],\n",
        "        [row1[['ID', 'LIMIT_BAL', 'SEX', 'EDUCATION', 'MARRIAGE', 'AGE', 'PAY_6','BILL_AMT6','PAY_AMT6','DEFAULTED']].append(pd.Series({'DATE':date(2005,4,1)}))]\n",
        "    ))\n",
        "    return res\n",
        "\n",
        "# Outra ideia a ser explorada: usar o melt para cada coluna alvo, ao invés de todas de uma vez (value_vars not set: everything else)\n",
        "# test = df.melt(id_vars=['ID', 'LIMIT_BAL', 'SEX', 'EDUCATION', 'MARRIAGE', 'AGE'])\n",
        "# test.reset_index(drop=True,inplace=True)\n",
        "# test.head()"
      ],
      "execution_count": 0,
      "outputs": []
    },
    {
      "cell_type": "code",
      "metadata": {
        "id": "5uhSCNF7DxK8",
        "colab_type": "code",
        "colab": {}
      },
      "source": [
        "pdf = pd.DataFrame(np.concatenate([ pivotAgg(row[1]) for row in df.iterrows()]))\n",
        "pdf.columns = ['ID', 'LIMIT_BAL', 'SEX', 'EDUCATION', 'MARRIAGE', 'AGE', 'PAYMENT STATUS','BILL AMOUNT','PAID AMOUNT','DEFAULTED', 'DATE']\n",
        "pdf.to_csv('UCI_Credit_Card_Pivoted.csv', index=False)"
      ],
      "execution_count": 0,
      "outputs": []
    },
    {
      "cell_type": "markdown",
      "metadata": {
        "id": "eGV1qItFD-eg",
        "colab_type": "text"
      },
      "source": [
        "Um ponto interessante é que o banco recebe muito menos do que o devido, com cerca de 11%:"
      ]
    },
    {
      "cell_type": "code",
      "metadata": {
        "id": "vPgtW3tHEFuk",
        "colab_type": "code",
        "colab": {
          "base_uri": "https://localhost:8080/",
          "height": 35
        },
        "outputId": "d9e5bcfe-17a6-4ac3-ae52-a7a70cc5ad26"
      },
      "source": [
        "pdf['PAID AMOUNT'].sum()/pdf['BILL AMOUNT'].sum()"
      ],
      "execution_count": 17,
      "outputs": [
        {
          "output_type": "execute_result",
          "data": {
            "text/plain": [
              "0.11728746963554218"
            ]
          },
          "metadata": {
            "tags": []
          },
          "execution_count": 17
        }
      ]
    },
    {
      "cell_type": "markdown",
      "metadata": {
        "id": "V_H69-OK2v18",
        "colab_type": "text"
      },
      "source": [
        "## Construção do Baseline"
      ]
    },
    {
      "cell_type": "markdown",
      "metadata": {
        "id": "tojyEq6lCp4c",
        "colab_type": "text"
      },
      "source": [
        "Serão construídos dois modelos, para verificação da acurácia antes que qualquer pré-processamento (com exceção de normalização) seja feito nos dados. O motivo para isso é que o problema pode estar na descrição, ao invés de no conjunto.\n",
        "\n"
      ]
    },
    {
      "cell_type": "code",
      "metadata": {
        "id": "N9mP4O8aZym0",
        "colab_type": "code",
        "colab": {}
      },
      "source": [
        "test_size_split = 0.2\n",
        "random_seed_val = 42444"
      ],
      "execution_count": 0,
      "outputs": []
    },
    {
      "cell_type": "code",
      "metadata": {
        "id": "ULzZ7BnsEhHs",
        "colab_type": "code",
        "colab": {}
      },
      "source": [
        "# Campo ID será ignorado, por ser chave única\n",
        "x_train, x_test, y_train, y_test = train_test_split(df.iloc[:,1:-1],df.iloc[:,-1], test_size=test_size_split, random_state=random_seed_val )\n",
        "\n",
        "scaler = StandardScaler()\n",
        "\n",
        "z_train = scaler.fit_transform(x_train)\n",
        "z_test = scaler.transform(x_test)"
      ],
      "execution_count": 0,
      "outputs": []
    },
    {
      "cell_type": "markdown",
      "metadata": {
        "id": "uyDhXKATEgoc",
        "colab_type": "text"
      },
      "source": [
        "### Regressão Logística"
      ]
    },
    {
      "cell_type": "code",
      "metadata": {
        "id": "Ype3OtpKEN4a",
        "colab_type": "code",
        "outputId": "fbac25b0-1b9c-4cf7-c5af-353820e474c4",
        "colab": {
          "base_uri": "https://localhost:8080/",
          "height": 72
        }
      },
      "source": [
        "## split train and test set\n",
        "y = df['DEFAULTED'].values\n",
        "x = df[['LIMIT_BAL', 'SEX', 'EDUCATION', 'MARRIAGE', 'AGE', 'PAY_1', 'PAY_2', 'PAY_3', 'PAY_4', 'PAY_5', 'PAY_6', 'BILL_AMT1', 'BILL_AMT2', 'BILL_AMT3', 'BILL_AMT4', 'BILL_AMT5', 'BILL_AMT6', 'PAY_AMT1', 'PAY_AMT2', 'PAY_AMT3', 'PAY_AMT4', 'PAY_AMT5', 'PAY_AMT6']].values\n",
        "#x_train, x_test, y_train, y_test = train_test_split(x, y, test_size=0.30, stratify=y, random_state=42)\n",
        "\n",
        "\n",
        "print('different values of y: %s' % np.unique(y))\n",
        "\n",
        "print('y_train distribution - label0: %d / label1: %d' % (len(y_train)-sum(y_train), sum(y_train)))\n",
        "print('y_test distribution - label0: %d / label1: %d' % (len(y_test)-sum(y_test), sum(y_test)))\n"
      ],
      "execution_count": 20,
      "outputs": [
        {
          "output_type": "stream",
          "text": [
            "different values of y: [0 1]\n",
            "y_train distribution - label0: 18722 / label1: 5278\n",
            "y_test distribution - label0: 4642 / label1: 1358\n"
          ],
          "name": "stdout"
        }
      ]
    },
    {
      "cell_type": "code",
      "metadata": {
        "id": "L7632FkaXLGJ",
        "colab_type": "code",
        "cellView": "code",
        "colab": {}
      },
      "source": [
        "## downsampling class 0\n",
        "#tmp_nopay = np.column_stack((x_train[y_train==0], y_train[y_train==0]))\n",
        "#tmp_pay = np.column_stack((x_train[y_train==1], y_train[y_train==1]))"
      ],
      "execution_count": 0,
      "outputs": []
    },
    {
      "cell_type": "code",
      "metadata": {
        "id": "0jAVY7u5bRVC",
        "colab_type": "code",
        "colab": {}
      },
      "source": [
        "#tmp_nopay = resample(tmp_nopay, replace=False, n_samples=len(y_train[y_train==1]), random_state=42)\n",
        "#tmp_downsampled = np.concatenate([tmp_nopay, tmp_pay])"
      ],
      "execution_count": 0,
      "outputs": []
    },
    {
      "cell_type": "code",
      "metadata": {
        "id": "lNBtNyuhgj-U",
        "colab_type": "code",
        "colab": {}
      },
      "source": [
        "#x_train_resampled = tmp_downsampled[:,:-1]\n",
        "#y_train_resampled = tmp_downsampled[:,-1:]"
      ],
      "execution_count": 0,
      "outputs": []
    },
    {
      "cell_type": "code",
      "metadata": {
        "id": "_gvx4vg7D-tv",
        "colab_type": "code",
        "outputId": "35c53322-8493-492d-80f0-e30394475898",
        "colab": {
          "base_uri": "https://localhost:8080/",
          "height": 342
        }
      },
      "source": [
        "## logistic regression\n",
        "# logreg = LogisticRegression(random_state=42, class_weight='balanced').fit(x_train, y_train)\n",
        "# y_pred = logreg.predict(x_test)\n",
        "logreg = LogisticRegression(random_state=42, solver = 'lbfgs', class_weight='balanced').fit(z_train, y_train)\n",
        "y_pred = logreg.predict(z_test)\n",
        "cm = confusion_matrix(y_test, y_pred)\n",
        "\n",
        "print('Logistic Regression')\n",
        "print('Accuracy: %.2f%%' % (accuracy_score(y_test, y_pred)*100))\n",
        "print('F1 Score: %.2f%%' % (f1_score(y_test, y_pred)*100))\n",
        "print('Balanced Accuracy: %.2f%%' % (balanced_accuracy_score(y_test, y_pred)*100))\n",
        "\n",
        "sns.set_style(\"whitegrid\")\n",
        "plt.figure(figsize=(6, 4))\n",
        "# Matriz de Confusão:\n",
        "# \tLinhas: Real\n",
        "# \tColunas: Predito\n",
        "\n",
        "r = cm/cm.sum(axis=1)[:,np.newaxis]\n",
        "sns.heatmap(r, linewidths=.5, cmap='YlGnBu', annot=True, fmt='.1%');"
      ],
      "execution_count": 24,
      "outputs": [
        {
          "output_type": "stream",
          "text": [
            "Logistic Regression\n",
            "Accuracy: 68.23%\n",
            "F1 Score: 47.32%\n",
            "Balanced Accuracy: 66.39%\n"
          ],
          "name": "stdout"
        },
        {
          "output_type": "display_data",
          "data": {
            "image/png": "[encoded data removed]",
            "text/plain": [
              "<Figure size 432x288 with 2 Axes>"
            ]
          },
          "metadata": {
            "tags": []
          }
        }
      ]
    },
    {
      "cell_type": "markdown",
      "metadata": {
        "id": "Ykd0s_vZExgI",
        "colab_type": "text"
      },
      "source": [
        "### SVM"
      ]
    },
    {
      "cell_type": "code",
      "metadata": {
        "id": "D7yF3vVvE0Kc",
        "colab_type": "code",
        "outputId": "75cb76c3-4f76-4e63-a938-c31060f03d1e",
        "colab": {
          "base_uri": "https://localhost:8080/",
          "height": 90
        }
      },
      "source": [
        "svm = SVC(kernel='rbf', C=1, class_weight='balanced', random_state=999)\n",
        "svm.fit(z_train, y_train)"
      ],
      "execution_count": 25,
      "outputs": [
        {
          "output_type": "execute_result",
          "data": {
            "text/plain": [
              "SVC(C=1, cache_size=200, class_weight='balanced', coef0=0.0,\n",
              "    decision_function_shape='ovr', degree=3, gamma='auto_deprecated',\n",
              "    kernel='rbf', max_iter=-1, probability=False, random_state=999,\n",
              "    shrinking=True, tol=0.001, verbose=False)"
            ]
          },
          "metadata": {
            "tags": []
          },
          "execution_count": 25
        }
      ]
    },
    {
      "cell_type": "code",
      "metadata": {
        "id": "xKmmHVO9FOmo",
        "colab_type": "code",
        "outputId": "32d036ca-3199-4db7-e224-42efa1f6b5e2",
        "colab": {
          "base_uri": "https://localhost:8080/",
          "height": 342
        }
      },
      "source": [
        "predictions = svm.predict(z_test)\n",
        "\n",
        "print('SVM - SVC')\n",
        "print('Accuracy: %.2f%%' % (accuracy_score(y_test, predictions)*100))\n",
        "print('F1 Score: %.2f%%' % (f1_score(y_test, predictions)*100))\n",
        "print('Balanced Accuracy: %.2f%%' % (balanced_accuracy_score(y_test, predictions)*100))\n",
        "\n",
        "c = confusion_matrix(y_test, predictions)\n",
        "r = c / c.sum(axis=1)[:, np.newaxis]\n",
        "\n",
        "sns.set_style(\"whitegrid\")\n",
        "plt.figure(figsize=(6, 4))\n",
        "# Matriz de Confusão:\n",
        "# \tLinhas: Real\n",
        "# \tColunas: Predito\n",
        "sns.heatmap(r, linewidths=.5, cmap='YlGnBu', annot=True, fmt='.1%');"
      ],
      "execution_count": 26,
      "outputs": [
        {
          "output_type": "stream",
          "text": [
            "SVM - SVC\n",
            "Accuracy: 77.23%\n",
            "F1 Score: 53.60%\n",
            "Balanced Accuracy: 70.47%\n"
          ],
          "name": "stdout"
        },
        {
          "output_type": "display_data",
          "data": {
            "image/png": "[encoded data removed]",
            "text/plain": [
              "<Figure size 432x288 with 2 Axes>"
            ]
          },
          "metadata": {
            "tags": []
          }
        }
      ]
    },
    {
      "cell_type": "code",
      "metadata": {
        "id": "sB6Q-uh6FWXg",
        "colab_type": "code",
        "outputId": "1b95d0b7-864c-42ba-d62d-1510b97fc6f1",
        "colab": {
          "base_uri": "https://localhost:8080/",
          "height": 287
        }
      },
      "source": [
        "# Dados estão desbalanceados - usar um SMOTE ajudaria?\n",
        "# Para o SVM provavelmente não, por conta de toda a ideia por trás dele. Mas checaremos de qualquer maneira, para ter certeza\n",
        "\n",
        "smoter = SMOTE(sampling_strategy = 'minority', random_state=777)\n",
        "sz_train, sy_train = smoter.fit_resample(z_train, y_train)\n",
        "\n",
        "defaultedS = np.unique(sy_train, return_counts=True)\n",
        "sns.barplot(defaultedS[0],defaultedS[1])"
      ],
      "execution_count": 27,
      "outputs": [
        {
          "output_type": "execute_result",
          "data": {
            "text/plain": [
              "<matplotlib.axes._subplots.AxesSubplot at 0x7f9b7929ac50>"
            ]
          },
          "metadata": {
            "tags": []
          },
          "execution_count": 27
        },
        {
          "output_type": "display_data",
          "data": {
            "image/png": "[encoded data removed]",
            "text/plain": [
              "<Figure size 432x288 with 1 Axes>"
            ]
          },
          "metadata": {
            "tags": []
          }
        }
      ]
    },
    {
      "cell_type": "code",
      "metadata": {
        "id": "kabqp2wGFjHI",
        "colab_type": "code",
        "outputId": "8bf7a965-65ad-4e4b-cf78-df08bd59823d",
        "colab": {
          "base_uri": "https://localhost:8080/",
          "height": 90
        }
      },
      "source": [
        "svmS = SVC(kernel='rbf', C=1, gamma='auto', random_state=999)\n",
        "svmS.fit(sz_train, sy_train)"
      ],
      "execution_count": 28,
      "outputs": [
        {
          "output_type": "execute_result",
          "data": {
            "text/plain": [
              "SVC(C=1, cache_size=200, class_weight=None, coef0=0.0,\n",
              "    decision_function_shape='ovr', degree=3, gamma='auto', kernel='rbf',\n",
              "    max_iter=-1, probability=False, random_state=999, shrinking=True, tol=0.001,\n",
              "    verbose=False)"
            ]
          },
          "metadata": {
            "tags": []
          },
          "execution_count": 28
        }
      ]
    },
    {
      "cell_type": "code",
      "metadata": {
        "id": "ZWbgz6lwFmVY",
        "colab_type": "code",
        "outputId": "f0effe4f-62c8-476c-95a1-0ba409ad6b07",
        "colab": {
          "base_uri": "https://localhost:8080/",
          "height": 342
        }
      },
      "source": [
        "predictions = svmS.predict(z_test)\n",
        "\n",
        "print('SVM - SVC SMOTED')\n",
        "print('Accuracy: %.2f%%' % (accuracy_score(y_test, predictions)*100))\n",
        "print('F1 Score: %.2f%%' % (f1_score(y_test, predictions)*100))\n",
        "print('Balanced Accuracy: %.2f%%' % (balanced_accuracy_score(y_test, predictions)*100))\n",
        "\n",
        "c = confusion_matrix(y_test, predictions)\n",
        "r = c / c.sum(axis=1)[:, np.newaxis]\n",
        "\n",
        "sns.set_style(\"whitegrid\")\n",
        "plt.figure(figsize=(6, 4))\n",
        "# Matriz de Confusão:\n",
        "# \tLinhas: Real\n",
        "# \tColunas: Predito\n",
        "sns.heatmap(r, linewidths=.5, cmap='YlGnBu', annot=True, fmt='.1%');"
      ],
      "execution_count": 29,
      "outputs": [
        {
          "output_type": "stream",
          "text": [
            "SVM - SVC SMOTED\n",
            "Accuracy: 77.05%\n",
            "F1 Score: 53.05%\n",
            "Balanced Accuracy: 70.06%\n"
          ],
          "name": "stdout"
        },
        {
          "output_type": "display_data",
          "data": {
            "image/png": "[encoded data removed]",
            "text/plain": [
              "<Figure size 432x288 with 2 Axes>"
            ]
          },
          "metadata": {
            "tags": []
          }
        }
      ]
    },
    {
      "cell_type": "markdown",
      "metadata": {
        "id": "XnLnX0HU26ZS",
        "colab_type": "text"
      },
      "source": [
        "## Análise Aprofundada dos Dados"
      ]
    },
    {
      "cell_type": "markdown",
      "metadata": {
        "id": "SSYguctN7ozk",
        "colab_type": "text"
      },
      "source": [
        "### Feature Selection\n",
        "\n",
        " - Análise de correlação\n",
        " - Análise de importância para um classificador do algoritmo GBM"
      ]
    },
    {
      "cell_type": "code",
      "metadata": {
        "id": "xV8tFZHL7tB4",
        "colab_type": "code",
        "outputId": "c39f39a6-e6e2-4311-f1d2-f74f107f3807",
        "colab": {
          "base_uri": "https://localhost:8080/",
          "height": 753
        }
      },
      "source": [
        "#get correlations of each features in dataset\n",
        "corrmat = x_train.corr()\n",
        "top_corr_features = corrmat.index\n",
        "#plot heat map\n",
        "plt.figure(figsize=(14,12))\n",
        "g=sns.heatmap(x_train[top_corr_features].corr(), annot=True, cmap=\"RdYlGn\", fmt='.2f')"
      ],
      "execution_count": 30,
      "outputs": [
        {
          "output_type": "display_data",
          "data": {
            "image/png": "[encoded data removed]",
            "text/plain": [
              "<Figure size 1008x864 with 2 Axes>"
            ]
          },
          "metadata": {
            "tags": []
          }
        }
      ]
    },
    {
      "cell_type": "code",
      "metadata": {
        "id": "Tjrz1lqj9yCY",
        "colab_type": "code",
        "outputId": "9d41a81a-a9e2-4e86-8f7d-9d0e5ca53f66",
        "colab": {
          "base_uri": "https://localhost:8080/",
          "height": 201
        }
      },
      "source": [
        "gbm = GradientBoostingClassifier()\n",
        "gbm.fit(sz_train, sy_train)"
      ],
      "execution_count": 31,
      "outputs": [
        {
          "output_type": "execute_result",
          "data": {
            "text/plain": [
              "GradientBoostingClassifier(criterion='friedman_mse', init=None,\n",
              "                           learning_rate=0.1, loss='deviance', max_depth=3,\n",
              "                           max_features=None, max_leaf_nodes=None,\n",
              "                           min_impurity_decrease=0.0, min_impurity_split=None,\n",
              "                           min_samples_leaf=1, min_samples_split=2,\n",
              "                           min_weight_fraction_leaf=0.0, n_estimators=100,\n",
              "                           n_iter_no_change=None, presort='auto',\n",
              "                           random_state=None, subsample=1.0, tol=0.0001,\n",
              "                           validation_fraction=0.1, verbose=0,\n",
              "                           warm_start=False)"
            ]
          },
          "metadata": {
            "tags": []
          },
          "execution_count": 31
        }
      ]
    },
    {
      "cell_type": "code",
      "metadata": {
        "id": "NE5zzGu391rM",
        "colab_type": "code",
        "outputId": "0f4c251e-eae7-42ab-ae9b-8c55d48d324d",
        "colab": {
          "base_uri": "https://localhost:8080/",
          "height": 342
        }
      },
      "source": [
        "predictions = gbm.predict(z_test)\n",
        "\n",
        "print('GBM - Baseline')\n",
        "print('Accuracy: %.2f%%' % (accuracy_score(y_test, predictions)*100))\n",
        "print('F1 Score: %.2f%%' % (f1_score(y_test, predictions)*100))\n",
        "print('Balanced Accuracy: %.2f%%' % (balanced_accuracy_score(y_test, predictions)*100))\n",
        "\n",
        "c = confusion_matrix(y_test, predictions)\n",
        "r = c / c.sum(axis=1)[:, np.newaxis]\n",
        "\n",
        "plt.figure(figsize=(6, 4))\n",
        "# Matriz de Confusão:\n",
        "# \tLinhas: Real\n",
        "# \tColunas: Predito\n",
        "sns.heatmap(r, linewidths=.5, cmap='YlGnBu', annot=True, fmt='.1%');"
      ],
      "execution_count": 32,
      "outputs": [
        {
          "output_type": "stream",
          "text": [
            "GBM - Baseline\n",
            "Accuracy: 79.45%\n",
            "F1 Score: 52.85%\n",
            "Balanced Accuracy: 69.35%\n"
          ],
          "name": "stdout"
        },
        {
          "output_type": "display_data",
          "data": {
            "image/png": "[encoded data removed]",
            "text/plain": [
              "<Figure size 432x288 with 2 Axes>"
            ]
          },
          "metadata": {
            "tags": []
          }
        }
      ]
    },
    {
      "cell_type": "code",
      "metadata": {
        "id": "5jIQDxXf97rk",
        "colab_type": "code",
        "outputId": "d62aed0d-df8e-44f5-abdf-f17f93ec9d7f",
        "colab": {
          "base_uri": "https://localhost:8080/",
          "height": 410
        }
      },
      "source": [
        "feature_importances = pd.DataFrame({ 'feature': x_train.columns, 'importance': gbm.feature_importances_})\n",
        "feature_importances.sort_values('importance', ascending=False, inplace=True)\n",
        "\n",
        "plt.figure(figsize=(8,6))\n",
        "sns.barplot(feature_importances.importance,feature_importances.feature)\n"
      ],
      "execution_count": 33,
      "outputs": [
        {
          "output_type": "execute_result",
          "data": {
            "text/plain": [
              "<matplotlib.axes._subplots.AxesSubplot at 0x7f9b77d84b00>"
            ]
          },
          "metadata": {
            "tags": []
          },
          "execution_count": 33
        },
        {
          "output_type": "display_data",
          "data": {
            "image/png": "[encoded data removed]",
            "text/plain": [
              "<Figure size 576x432 with 1 Axes>"
            ]
          },
          "metadata": {
            "tags": []
          }
        }
      ]
    },
    {
      "cell_type": "markdown",
      "metadata": {
        "id": "-QC8XN8P-HeQ",
        "colab_type": "text"
      },
      "source": [
        "Considerações:\n",
        "- As features referentes ao total das contas possuem alta correlação entre si, mas para o classificador GBM não foram especiamente relevantes\n",
        "- Selecionamos com base nas features mais relevantes um subconjunto, para treinar um novo classificador SVM e comparar o resultado (sem utilizar SMOTE, já que não houve diferença significativa no teste anterior)"
      ]
    },
    {
      "cell_type": "code",
      "metadata": {
        "id": "apuSyr3u-XK8",
        "colab_type": "code",
        "colab": {}
      },
      "source": [
        "fx_train = x_train.loc[:,['EDUCATION','AGE','LIMIT_BAL','PAY_1','PAY_2','PAY_3','PAY_4','PAY_5','PAY_6','PAY_AMT1']]\n",
        "fx_test = x_test.loc[:,['EDUCATION','AGE','LIMIT_BAL','PAY_1','PAY_2','PAY_3','PAY_4','PAY_5','PAY_6','PAY_AMT1']]\n",
        "\n",
        "scaler2 = StandardScaler()\n",
        "\n",
        "fz_train = scaler2.fit_transform(fx_train)\n",
        "fz_test = scaler2.transform(fx_test)"
      ],
      "execution_count": 0,
      "outputs": []
    },
    {
      "cell_type": "code",
      "metadata": {
        "id": "LZ2oRTuN-bAQ",
        "colab_type": "code",
        "outputId": "18fff4c2-c457-40af-ff91-deb625f7e940",
        "colab": {
          "base_uri": "https://localhost:8080/",
          "height": 342
        }
      },
      "source": [
        "svm2 = SVC(kernel='rbf', C=1, class_weight='balanced', random_state=979979)\n",
        "svm2.fit(fz_train, y_train)\n",
        "\n",
        "predictions = svm2.predict(fz_test)\n",
        "\n",
        "print('SVM - SVC Redux')\n",
        "print('Accuracy: %.2f%%' % (accuracy_score(y_test, predictions)*100))\n",
        "print('F1 Score: %.2f%%' % (f1_score(y_test, predictions)*100))\n",
        "print('Balanced Accuracy: %.2f%%' % (balanced_accuracy_score(y_test, predictions)*100))\n",
        "\n",
        "c = confusion_matrix(y_test, predictions)\n",
        "r = c / c.sum(axis=1)[:, np.newaxis]\n",
        "\n",
        "plt.figure(figsize=(6, 4))\n",
        "# Matriz de Confusão:\n",
        "# \tLinhas: Real\n",
        "# \tColunas: Predito\n",
        "sns.heatmap(r, linewidths=.5, cmap='YlGnBu', annot=True, fmt='.1%');"
      ],
      "execution_count": 35,
      "outputs": [
        {
          "output_type": "stream",
          "text": [
            "SVM - SVC Redux\n",
            "Accuracy: 77.08%\n",
            "F1 Score: 54.12%\n",
            "Balanced Accuracy: 70.94%\n"
          ],
          "name": "stdout"
        },
        {
          "output_type": "display_data",
          "data": {
            "image/png": "[encoded data removed]",
            "text/plain": [
              "<Figure size 432x288 with 2 Axes>"
            ]
          },
          "metadata": {
            "tags": []
          }
        }
      ]
    },
    {
      "cell_type": "markdown",
      "metadata": {
        "id": "AKLyk1IgMH2s",
        "colab_type": "text"
      },
      "source": [
        "### Limpeza dos dados"
      ]
    },
    {
      "cell_type": "markdown",
      "metadata": {
        "id": "b_qY18IvNvUk",
        "colab_type": "text"
      },
      "source": [
        "#### **Features BILL_AMTX**\n",
        "\n",
        "**Problemas encontrados:**\n",
        "\n",
        "* Foram encontrados valores negativos em todos os meses.\n"
      ]
    },
    {
      "cell_type": "code",
      "metadata": {
        "id": "htYOAdUaMO1k",
        "colab_type": "code",
        "colab": {
          "base_uri": "https://localhost:8080/",
          "height": 206
        },
        "outputId": "62a887e0-fb64-4429-87f9-15ce7dccc3e9"
      },
      "source": [
        "paymentFields = ['PAY_AMT1','PAY_AMT2','PAY_AMT3','PAY_AMT4','PAY_AMT5','PAY_AMT6']\n",
        "ownedFields = ['BILL_AMT1','BILL_AMT2','BILL_AMT3','BILL_AMT4','BILL_AMT5','BILL_AMT6']\n",
        "\n",
        "df[(df.BILL_AMT1 < 0) & (df.BILL_AMT2 <0)].head(5)[ ['ID'] + paymentFields + ownedFields]"
      ],
      "execution_count": 36,
      "outputs": [
        {
          "output_type": "execute_result",
          "data": {
            "text/html": [
              "<div>\n",
              "<style scoped>\n",
              "    .dataframe tbody tr th:only-of-type {\n",
              "        vertical-align: middle;\n",
              "    }\n",
              "\n",
              "    .dataframe tbody tr th {\n",
              "        vertical-align: top;\n",
              "    }\n",
              "\n",
              "    .dataframe thead th {\n",
              "        text-align: right;\n",
              "    }\n",
              "</style>\n",
              "<table border=\"1\" class=\"dataframe\">\n",
              "  <thead>\n",
              "    <tr style=\"text-align: right;\">\n",
              "      <th></th>\n",
              "      <th>ID</th>\n",
              "      <th>PAY_AMT1</th>\n",
              "      <th>PAY_AMT2</th>\n",
              "      <th>PAY_AMT3</th>\n",
              "      <th>PAY_AMT4</th>\n",
              "      <th>PAY_AMT5</th>\n",
              "      <th>PAY_AMT6</th>\n",
              "      <th>BILL_AMT1</th>\n",
              "      <th>BILL_AMT2</th>\n",
              "      <th>BILL_AMT3</th>\n",
              "      <th>BILL_AMT4</th>\n",
              "      <th>BILL_AMT5</th>\n",
              "      <th>BILL_AMT6</th>\n",
              "    </tr>\n",
              "  </thead>\n",
              "  <tbody>\n",
              "    <tr>\n",
              "      <th>26</th>\n",
              "      <td>27</td>\n",
              "      <td>0.0</td>\n",
              "      <td>1000.0</td>\n",
              "      <td>0.0</td>\n",
              "      <td>500.0</td>\n",
              "      <td>0.0</td>\n",
              "      <td>1000.0</td>\n",
              "      <td>-109.0</td>\n",
              "      <td>-425.0</td>\n",
              "      <td>259.0</td>\n",
              "      <td>-57.0</td>\n",
              "      <td>127.0</td>\n",
              "      <td>-189.0</td>\n",
              "    </tr>\n",
              "    <tr>\n",
              "      <th>68</th>\n",
              "      <td>69</td>\n",
              "      <td>0.0</td>\n",
              "      <td>0.0</td>\n",
              "      <td>20161.0</td>\n",
              "      <td>0.0</td>\n",
              "      <td>7319.0</td>\n",
              "      <td>13899.0</td>\n",
              "      <td>-190.0</td>\n",
              "      <td>-9850.0</td>\n",
              "      <td>-9850.0</td>\n",
              "      <td>10311.0</td>\n",
              "      <td>10161.0</td>\n",
              "      <td>7319.0</td>\n",
              "    </tr>\n",
              "    <tr>\n",
              "      <th>101</th>\n",
              "      <td>102</td>\n",
              "      <td>223.0</td>\n",
              "      <td>33178.0</td>\n",
              "      <td>1171.0</td>\n",
              "      <td>1197.0</td>\n",
              "      <td>1250.0</td>\n",
              "      <td>5000.0</td>\n",
              "      <td>-81.0</td>\n",
              "      <td>-303.0</td>\n",
              "      <td>32475.0</td>\n",
              "      <td>32891.0</td>\n",
              "      <td>33564.0</td>\n",
              "      <td>34056.0</td>\n",
              "    </tr>\n",
              "    <tr>\n",
              "      <th>109</th>\n",
              "      <td>110</td>\n",
              "      <td>0.0</td>\n",
              "      <td>0.0</td>\n",
              "      <td>0.0</td>\n",
              "      <td>0.0</td>\n",
              "      <td>0.0</td>\n",
              "      <td>0.0</td>\n",
              "      <td>-103.0</td>\n",
              "      <td>-103.0</td>\n",
              "      <td>-103.0</td>\n",
              "      <td>-103.0</td>\n",
              "      <td>-103.0</td>\n",
              "      <td>-103.0</td>\n",
              "    </tr>\n",
              "    <tr>\n",
              "      <th>149</th>\n",
              "      <td>150</td>\n",
              "      <td>0.0</td>\n",
              "      <td>22500.0</td>\n",
              "      <td>0.0</td>\n",
              "      <td>969.0</td>\n",
              "      <td>1000.0</td>\n",
              "      <td>0.0</td>\n",
              "      <td>-1100.0</td>\n",
              "      <td>-1100.0</td>\n",
              "      <td>21400.0</td>\n",
              "      <td>0.0</td>\n",
              "      <td>969.0</td>\n",
              "      <td>869.0</td>\n",
              "    </tr>\n",
              "  </tbody>\n",
              "</table>\n",
              "</div>"
            ],
            "text/plain": [
              "      ID  PAY_AMT1  PAY_AMT2  ...  BILL_AMT4  BILL_AMT5  BILL_AMT6\n",
              "26    27       0.0    1000.0  ...      -57.0      127.0     -189.0\n",
              "68    69       0.0       0.0  ...    10311.0    10161.0     7319.0\n",
              "101  102     223.0   33178.0  ...    32891.0    33564.0    34056.0\n",
              "109  110       0.0       0.0  ...     -103.0     -103.0     -103.0\n",
              "149  150       0.0   22500.0  ...        0.0      969.0      869.0\n",
              "\n",
              "[5 rows x 13 columns]"
            ]
          },
          "metadata": {
            "tags": []
          },
          "execution_count": 36
        }
      ]
    },
    {
      "cell_type": "markdown",
      "metadata": {
        "id": "FEwinT_lOkOg",
        "colab_type": "text"
      },
      "source": [
        "\n",
        "Esses valores fazem sentido em um contexto onde o cliente pagou mais do que deveria em um mês.  Dessa forma, não faremos nenhuma alteração nesta _Feature_"
      ]
    },
    {
      "cell_type": "markdown",
      "metadata": {
        "id": "Jfn5f375OAN0",
        "colab_type": "text"
      },
      "source": [
        "#### Feature EDUCATION\n",
        "\n",
        "* **`EDUCATION:`** nível de educação do cliente (1: graduate school, 2: university, 3: high school, 4: others, 5: desconhecido, 6: desconhecido)\n",
        "\n",
        "**Problemas Encontrados:**\n",
        "\n",
        "* Valores não documentados para **`EDUCATION`** (0, 5, e 6)\n"
      ]
    },
    {
      "cell_type": "code",
      "metadata": {
        "id": "CRBQUUX_OZSg",
        "colab_type": "code",
        "colab": {
          "base_uri": "https://localhost:8080/",
          "height": 164
        },
        "outputId": "597bf0e0-ccc7-448e-96db-bf03f1164b69"
      },
      "source": [
        "df.EDUCATION.value_counts()"
      ],
      "execution_count": 37,
      "outputs": [
        {
          "output_type": "execute_result",
          "data": {
            "text/plain": [
              "2    14030\n",
              "1    10585\n",
              "3     4917\n",
              "5      280\n",
              "4      123\n",
              "6       51\n",
              "0       14\n",
              "Name: EDUCATION, dtype: int64"
            ]
          },
          "metadata": {
            "tags": []
          },
          "execution_count": 37
        }
      ]
    },
    {
      "cell_type": "markdown",
      "metadata": {
        "id": "_SrHcXj6O2Po",
        "colab_type": "text"
      },
      "source": [
        "É possível que haja um problema na descrição do Dataset, mas como temos um valor \"Others\", iremos testar trocar os valores desconhecidos por ele."
      ]
    },
    {
      "cell_type": "code",
      "metadata": {
        "id": "penpas4Kl32U",
        "colab_type": "code",
        "colab": {}
      },
      "source": [
        "edu_x_train = x_train.copy()\n",
        "edu_x_test = x_test.copy()\n",
        "\n",
        "edu_x_train.EDUCATION[edu_x_train.EDUCATION.isin([0,5,6])] = 4\n",
        "edu_x_test.EDUCATION[edu_x_test.EDUCATION.isin([0,5,6])] = 4\n",
        "\n",
        "edu_scaler = StandardScaler()\n",
        "edu_z_train = scaler.fit_transform(edu_x_train)\n",
        "edu_z_test = scaler.transform(edu_x_test)\n"
      ],
      "execution_count": 0,
      "outputs": []
    },
    {
      "cell_type": "code",
      "metadata": {
        "id": "X32juUnymIG8",
        "colab_type": "code",
        "colab": {}
      },
      "source": [
        "svmEdu = SVC(kernel='rbf', C=1, class_weight='balanced', random_state=999)\n",
        "svmEdu.fit(edu_z_train, y_train)\n",
        "\n",
        "predictions = svmEdu.predict(edu_z_test)"
      ],
      "execution_count": 0,
      "outputs": []
    },
    {
      "cell_type": "code",
      "metadata": {
        "id": "QxMLxqFUPaWk",
        "colab_type": "code",
        "colab": {
          "base_uri": "https://localhost:8080/",
          "height": 342
        },
        "outputId": "6e1454c9-c6fa-4a8d-d00f-0d750ccc3c96"
      },
      "source": [
        "print('SVM - Ajuste EDUCATION')\n",
        "print('Accuracy: %.2f%%' % (accuracy_score(y_test, predictions)*100))\n",
        "print('F1 Score: %.2f%%' % (f1_score(y_test, predictions)*100))\n",
        "print('Balanced Accuracy: %.2f%%' % (balanced_accuracy_score(y_test, predictions)*100))\n",
        "\n",
        "\n",
        "c = confusion_matrix(y_test, predictions)\n",
        "r = c / c.sum(axis=1)[:, np.newaxis]\n",
        "\n",
        "plt.figure(figsize=(6, 4))\n",
        "# Matriz de Confusão:\n",
        "# \tLinhas: Real\n",
        "# \tColunas: Predito\n",
        "sns.heatmap(r, linewidths=.5, cmap='YlGnBu', annot=True, fmt='.1%');"
      ],
      "execution_count": 40,
      "outputs": [
        {
          "output_type": "stream",
          "text": [
            "SVM - Ajuste EDUCATION\n",
            "Accuracy: 77.27%\n",
            "F1 Score: 53.67%\n",
            "Balanced Accuracy: 70.51%\n"
          ],
          "name": "stdout"
        },
        {
          "output_type": "display_data",
          "data": {
            "image/png": "[encoded data removed]",
            "text/plain": [
              "<Figure size 432x288 with 2 Axes>"
            ]
          },
          "metadata": {
            "tags": []
          }
        }
      ]
    },
    {
      "cell_type": "markdown",
      "metadata": {
        "id": "cmbCcif5RW_I",
        "colab_type": "text"
      },
      "source": [
        "Essa mudança não afetou muito o SVM, mas afetou o GBM. Ver com o Rafael depois o que é melhor, deixar algo que não bata muito com a descrição mas que ajude a predição para algum algoritmo específico, ou deixar o dataset mais coerente com o esperado."
      ]
    },
    {
      "cell_type": "markdown",
      "metadata": {
        "id": "0ioCyee4SKbU",
        "colab_type": "text"
      },
      "source": [
        "#### Feature MARRIAGE\n",
        "\n",
        "* **`MARRIAGE:`** status marital (1: casado, 2: solteiro, 3: outros)\n",
        "\n",
        "**Problemas Encontrados:**\n",
        "\n",
        "* Valores não documentados para **`MARRIAGE`** (0)"
      ]
    },
    {
      "cell_type": "code",
      "metadata": {
        "id": "a5GS_XXvPaR4",
        "colab_type": "code",
        "colab": {
          "base_uri": "https://localhost:8080/",
          "height": 109
        },
        "outputId": "1ae03cc6-3e8f-483c-b4d2-a6ee8a7a748e"
      },
      "source": [
        "df.MARRIAGE.value_counts()"
      ],
      "execution_count": 41,
      "outputs": [
        {
          "output_type": "execute_result",
          "data": {
            "text/plain": [
              "2    15964\n",
              "1    13659\n",
              "3      323\n",
              "0       54\n",
              "Name: MARRIAGE, dtype: int64"
            ]
          },
          "metadata": {
            "tags": []
          },
          "execution_count": 41
        }
      ]
    },
    {
      "cell_type": "code",
      "metadata": {
        "id": "3vVGgBWTPaOw",
        "colab_type": "code",
        "colab": {}
      },
      "source": [
        "df.MARRIAGE[df.MARRIAGE == 0] = 3\n",
        "\n",
        "mar_x_train = edu_x_train.copy()\n",
        "mar_x_test = edu_x_test.copy()\n",
        "\n",
        "mar_x_train.EDUCATION[mar_x_train.EDUCATION.isin([0])] = 3\n",
        "mar_x_test.EDUCATION[mar_x_test.EDUCATION.isin([0])] = 3\n",
        "\n",
        "mar_scaler = StandardScaler()\n",
        "mar_z_train = scaler.fit_transform(mar_x_train)\n",
        "mar_z_test = scaler.transform(mar_x_test)\n"
      ],
      "execution_count": 0,
      "outputs": []
    },
    {
      "cell_type": "code",
      "metadata": {
        "id": "QPMEzHt5n-Uk",
        "colab_type": "code",
        "colab": {}
      },
      "source": [
        "svmMAR = SVC(kernel='rbf', C=1, class_weight='balanced', random_state=999)\n",
        "svmMAR.fit(mar_z_train, y_train)\n",
        "predictions = svmMAR.predict(mar_z_test)"
      ],
      "execution_count": 0,
      "outputs": []
    },
    {
      "cell_type": "code",
      "metadata": {
        "id": "p6hsO9_cSSrc",
        "colab_type": "code",
        "colab": {
          "base_uri": "https://localhost:8080/",
          "height": 342
        },
        "outputId": "1cc594f3-4cef-4bd7-df80-a94ea7e2c58b"
      },
      "source": [
        "print('SVM - Ajuste MARRIAGE')\n",
        "print('Accuracy: %.2f%%' % (accuracy_score(y_test, predictions)*100))\n",
        "print('F1 Score: %.2f%%' % (f1_score(y_test, predictions)*100))\n",
        "print('Balanced Accuracy: %.2f%%' % (balanced_accuracy_score(y_test, predictions)*100))\n",
        "\n",
        "c = confusion_matrix(y_test, predictions)\n",
        "r = c / c.sum(axis=1)[:, np.newaxis]\n",
        "\n",
        "plt.figure(figsize=(6, 4))\n",
        "# Matriz de Confusão:\n",
        "# \tLinhas: Real\n",
        "# \tColunas: Predito\n",
        "sns.heatmap(r, linewidths=.5, cmap='YlGnBu', annot=True, fmt='.1%');"
      ],
      "execution_count": 44,
      "outputs": [
        {
          "output_type": "stream",
          "text": [
            "SVM - Ajuste MARRIAGE\n",
            "Accuracy: 77.27%\n",
            "F1 Score: 53.67%\n",
            "Balanced Accuracy: 70.51%\n"
          ],
          "name": "stdout"
        },
        {
          "output_type": "display_data",
          "data": {
            "image/png": "[encoded data removed]",
            "text/plain": [
              "<Figure size 432x288 with 2 Axes>"
            ]
          },
          "metadata": {
            "tags": []
          }
        }
      ]
    },
    {
      "cell_type": "markdown",
      "metadata": {
        "id": "FKcwbJlxUvwk",
        "colab_type": "text"
      },
      "source": [
        "Para a feature Marriage, a alteração dos valores não teve efeito notável. Dessa forma, iremos manter a alteração para deixar o Dataset mais próximo dos valores esperados de acordo com a descrição."
      ]
    },
    {
      "cell_type": "markdown",
      "metadata": {
        "id": "AIfQC0d0VYME",
        "colab_type": "text"
      },
      "source": [
        "### Feature Engineering\n",
        "\n",
        "Um detalhe que pode ser interessante para ajudar na predição é a porcentagem de quanto foi pago sobre o que era devido. Iremos adicionar essa feature e testar o resultado.\n",
        "\n",
        "Iremos utilizar os valores corrigidos no passo anterior, uma vez que não houve mudança significativa nos indicadores analisados.\n"
      ]
    },
    {
      "cell_type": "code",
      "metadata": {
        "id": "1hoThLi8VtxU",
        "colab_type": "code",
        "colab": {}
      },
      "source": [
        "x_train = mar_x_train\n",
        "x_test = mar_x_test\n",
        "\n",
        "# Somando +1 para evitar campos com zero\n",
        "x_train.insert(1,'PPAID', ((x_train[paymentFields].sum(axis=1)+1) / (x_train[ownedFields].sum(axis=1)+1)) )\n",
        "x_test.insert(1,'PPAID', ((x_test[paymentFields].sum(axis=1)+1) / (x_test[ownedFields].sum(axis=1)+1)) )\n",
        "\n",
        "scalerPP = StandardScaler()\n",
        "z_train = scalerPP.fit_transform(x_train)\n",
        "z_test = scalerPP.transform(x_test)\n",
        "\n",
        "\n",
        "# df.insert(1,'PPAID', ((df[paymentFields].sum(axis=1)+1) / (df[ownedFields].sum(axis=1)+1)) )\n",
        "# df.head(5)"
      ],
      "execution_count": 0,
      "outputs": []
    },
    {
      "cell_type": "code",
      "metadata": {
        "id": "5ptCYSV3YgoM",
        "colab_type": "code",
        "colab": {
          "base_uri": "https://localhost:8080/",
          "height": 342
        },
        "outputId": "c5a08add-f3a2-4904-c573-7a1a8bbbbebb"
      },
      "source": [
        "svmPP = SVC(kernel='rbf', C=1, class_weight='balanced', random_state=999)\n",
        "svmPP.fit(z_train, y_train)\n",
        "predictions = svmPP.predict(z_test)\n",
        "\n",
        "print('SVM - Adição % pagamento')\n",
        "print('Accuracy: %.2f%%' % (accuracy_score(y_test, predictions)*100))\n",
        "print('F1 Score: %.2f%%' % (f1_score(y_test, predictions)*100))\n",
        "print('Balanced Accuracy: %.2f%%' % (balanced_accuracy_score(y_test, predictions)*100))\n",
        "\n",
        "c = confusion_matrix(y_test, predictions)\n",
        "r = c / c.sum(axis=1)[:, np.newaxis]\n",
        "\n",
        "plt.figure(figsize=(6, 4))\n",
        "# Matriz de Confusão:\n",
        "# \tLinhas: Real\n",
        "# \tColunas: Predito\n",
        "sns.heatmap(r, linewidths=.5, cmap='YlGnBu', annot=True, fmt='.1%');"
      ],
      "execution_count": 46,
      "outputs": [
        {
          "output_type": "stream",
          "text": [
            "SVM - Adição % pagamento\n",
            "Accuracy: 77.28%\n",
            "F1 Score: 53.66%\n",
            "Balanced Accuracy: 70.50%\n"
          ],
          "name": "stdout"
        },
        {
          "output_type": "display_data",
          "data": {
            "image/png": "[encoded data removed]",
            "text/plain": [
              "<Figure size 432x288 with 2 Axes>"
            ]
          },
          "metadata": {
            "tags": []
          }
        }
      ]
    },
    {
      "cell_type": "code",
      "metadata": {
        "id": "vn4zh25xrbH0",
        "colab_type": "code",
        "colab": {}
      },
      "source": [
        "smoterPP = SMOTE(sampling_strategy = 'minority', random_state=777)\n",
        "sz_train, sy_train = smoterPP.fit_resample(z_train, y_train)"
      ],
      "execution_count": 0,
      "outputs": []
    },
    {
      "cell_type": "code",
      "metadata": {
        "colab_type": "code",
        "id": "pytr6EV4rXaU",
        "colab": {
          "base_uri": "https://localhost:8080/",
          "height": 342
        },
        "outputId": "3c8eb982-7389-466a-b455-1970db14385d"
      },
      "source": [
        "gbmPP = GradientBoostingClassifier()\n",
        "gbmPP.fit(sz_train, sy_train)\n",
        "predictions = gbmPP.predict(z_test)\n",
        "\n",
        "\n",
        "print('GBM - Adição % pagamento')\n",
        "print('Accuracy: %.2f%%' % (accuracy_score(y_test, predictions)*100))\n",
        "print('F1 Score: %.2f%%' % (f1_score(y_test, predictions)*100))\n",
        "print('Balanced Accuracy: %.2f%%' % (balanced_accuracy_score(y_test, predictions)*100))\n",
        "\n",
        "c = confusion_matrix(y_test, predictions)\n",
        "r = c / c.sum(axis=1)[:, np.newaxis]\n",
        "\n",
        "plt.figure(figsize=(6, 4))\n",
        "# Matriz de Confusão:\n",
        "# \tLinhas: Real\n",
        "# \tColunas: Predito\n",
        "sns.heatmap(r, linewidths=.5, cmap='YlGnBu', annot=True, fmt='.1%');"
      ],
      "execution_count": 48,
      "outputs": [
        {
          "output_type": "stream",
          "text": [
            "GBM - Adição % pagamento\n",
            "Accuracy: 79.50%\n",
            "F1 Score: 52.91%\n",
            "Balanced Accuracy: 69.38%\n"
          ],
          "name": "stdout"
        },
        {
          "output_type": "display_data",
          "data": {
            "image/png": "[encoded data removed]",
            "text/plain": [
              "<Figure size 432x288 with 2 Axes>"
            ]
          },
          "metadata": {
            "tags": []
          }
        }
      ]
    },
    {
      "cell_type": "code",
      "metadata": {
        "id": "9HyLAT0_a05Q",
        "colab_type": "code",
        "colab": {
          "base_uri": "https://localhost:8080/",
          "height": 410
        },
        "outputId": "49e6a65a-d70c-4b65-8067-07f3a781b630"
      },
      "source": [
        "feature_importances = pd.DataFrame({ 'feature': x_train.columns, 'importance': gbmPP.feature_importances_})\n",
        "feature_importances.sort_values('importance', ascending=False, inplace=True)\n",
        "\n",
        "plt.figure(figsize=(8,6))\n",
        "sns.barplot(feature_importances.importance,feature_importances.feature)"
      ],
      "execution_count": 49,
      "outputs": [
        {
          "output_type": "execute_result",
          "data": {
            "text/plain": [
              "<matplotlib.axes._subplots.AxesSubplot at 0x7f9b76291a90>"
            ]
          },
          "metadata": {
            "tags": []
          },
          "execution_count": 49
        },
        {
          "output_type": "display_data",
          "data": {
            "image/png": "[encoded data removed]",
            "text/plain": [
              "<Figure size 576x432 with 1 Axes>"
            ]
          },
          "metadata": {
            "tags": []
          }
        }
      ]
    },
    {
      "cell_type": "markdown",
      "metadata": {
        "id": "fmRxqFx7wL4g",
        "colab_type": "text"
      },
      "source": [
        "Essa feature não fez diferença alguma, irei tentar adicionar a média por mês apenas para teste"
      ]
    },
    {
      "cell_type": "code",
      "metadata": {
        "id": "5HupDJmFs3Nk",
        "colab_type": "code",
        "colab": {}
      },
      "source": [
        "x_train.drop('PPAID', axis=1, inplace=True)\n",
        "x_test.drop('PPAID', axis=1, inplace=True)"
      ],
      "execution_count": 0,
      "outputs": []
    },
    {
      "cell_type": "code",
      "metadata": {
        "id": "cYtwVK8cs3Kc",
        "colab_type": "code",
        "colab": {}
      },
      "source": [
        "# x_train.insert(1,'PPAID', ((x_train[paymentFields].sum(axis=1)+1) / (x_train[ownedFields].sum(axis=1)+1)) )\n",
        "# x_test.insert(1,'PPAID', ((x_test[paymentFields].sum(axis=1)+1) / (x_test[ownedFields].sum(axis=1)+1)) )"
      ],
      "execution_count": 0,
      "outputs": []
    },
    {
      "cell_type": "code",
      "metadata": {
        "id": "3UaCgt0Ss3HU",
        "colab_type": "code",
        "colab": {}
      },
      "source": [
        "# x_train[x_train['BILL_AMT1'] == 0 ][''] = 1\n",
        "\n",
        "# x_train['BTEMP1'] = x_train['BILL_AMT1']\n",
        "\n",
        "for i in range(6):\n",
        "    x_train.insert(1, 'BTEMP'+str(i+1), x_train['BILL_AMT'+str(i+1)])\n",
        "    x_test.insert(1, 'BTEMP'+str(i+1), x_test['BILL_AMT'+str(i+1)])\n",
        "    \n",
        "    x_train.insert(1, 'PTEMP'+str(i+1), x_train['PAY_AMT'+str(i+1)])\n",
        "    x_test.insert(1, 'PTEMP'+str(i+1), x_test['PAY_AMT'+str(i+1)])\n",
        "    \n",
        "    # Onde o total é 0, consideraremos 100% pago a dívida do mês\n",
        "    x_train['PTEMP'+str(i+1)][x_train['BILL_AMT'+str(i+1)] == 0] = 1\n",
        "    x_train['BTEMP'+str(i+1)][x_train['BILL_AMT'+str(i+1)] == 0] = 1\n",
        "    \n",
        "    x_test['PTEMP'+str(i+1)][x_test['BILL_AMT'+str(i+1)] == 0] = 1\n",
        "    x_test['BTEMP'+str(i+1)][x_test['BILL_AMT'+str(i+1)] == 0] = 1\n",
        "    \n",
        "    x_train.insert(1,'PPAID'+str(i+1), x_train['PTEMP'+str(i+1)] / x_train['BTEMP'+str(i+1)] )\n",
        "    x_test.insert(1,'PPAID'+str(i+1), x_test['PTEMP'+str(i+1)] / x_test['BTEMP'+str(i+1)] )"
      ],
      "execution_count": 0,
      "outputs": []
    },
    {
      "cell_type": "code",
      "metadata": {
        "id": "l2_bVEK4zU3A",
        "colab_type": "code",
        "colab": {
          "base_uri": "https://localhost:8080/",
          "height": 69
        },
        "outputId": "68a7205c-be99-4823-e28c-02a05b1d8a31"
      },
      "source": [
        "# checagem de valores nulos\n",
        "x_train.loc[x_train.index[np.isinf(x_train).any(1)]].head(5)"
      ],
      "execution_count": 101,
      "outputs": [
        {
          "output_type": "execute_result",
          "data": {
            "text/html": [
              "<div>\n",
              "<style scoped>\n",
              "    .dataframe tbody tr th:only-of-type {\n",
              "        vertical-align: middle;\n",
              "    }\n",
              "\n",
              "    .dataframe tbody tr th {\n",
              "        vertical-align: top;\n",
              "    }\n",
              "\n",
              "    .dataframe thead th {\n",
              "        text-align: right;\n",
              "    }\n",
              "</style>\n",
              "<table border=\"1\" class=\"dataframe\">\n",
              "  <thead>\n",
              "    <tr style=\"text-align: right;\">\n",
              "      <th></th>\n",
              "      <th>LIMIT_BAL</th>\n",
              "      <th>PPAID6</th>\n",
              "      <th>PTEMP6</th>\n",
              "      <th>BTEMP6</th>\n",
              "      <th>PPAID5</th>\n",
              "      <th>PTEMP5</th>\n",
              "      <th>BTEMP5</th>\n",
              "      <th>PPAID4</th>\n",
              "      <th>PTEMP4</th>\n",
              "      <th>BTEMP4</th>\n",
              "      <th>PPAID3</th>\n",
              "      <th>PTEMP3</th>\n",
              "      <th>BTEMP3</th>\n",
              "      <th>PPAID2</th>\n",
              "      <th>PTEMP2</th>\n",
              "      <th>BTEMP2</th>\n",
              "      <th>PPAID1</th>\n",
              "      <th>PTEMP1</th>\n",
              "      <th>BTEMP1</th>\n",
              "      <th>SEX</th>\n",
              "      <th>EDUCATION</th>\n",
              "      <th>MARRIAGE</th>\n",
              "      <th>AGE</th>\n",
              "      <th>PAY_1</th>\n",
              "      <th>PAY_2</th>\n",
              "      <th>PAY_3</th>\n",
              "      <th>PAY_4</th>\n",
              "      <th>PAY_5</th>\n",
              "      <th>PAY_6</th>\n",
              "      <th>BILL_AMT1</th>\n",
              "      <th>BILL_AMT2</th>\n",
              "      <th>BILL_AMT3</th>\n",
              "      <th>BILL_AMT4</th>\n",
              "      <th>BILL_AMT5</th>\n",
              "      <th>BILL_AMT6</th>\n",
              "      <th>PAY_AMT1</th>\n",
              "      <th>PAY_AMT2</th>\n",
              "      <th>PAY_AMT3</th>\n",
              "      <th>PAY_AMT4</th>\n",
              "      <th>PAY_AMT5</th>\n",
              "      <th>PAY_AMT6</th>\n",
              "    </tr>\n",
              "  </thead>\n",
              "  <tbody>\n",
              "  </tbody>\n",
              "</table>\n",
              "</div>"
            ],
            "text/plain": [
              "Empty DataFrame\n",
              "Columns: [LIMIT_BAL, PPAID6, PTEMP6, BTEMP6, PPAID5, PTEMP5, BTEMP5, PPAID4, PTEMP4, BTEMP4, PPAID3, PTEMP3, BTEMP3, PPAID2, PTEMP2, BTEMP2, PPAID1, PTEMP1, BTEMP1, SEX, EDUCATION, MARRIAGE, AGE, PAY_1, PAY_2, PAY_3, PAY_4, PAY_5, PAY_6, BILL_AMT1, BILL_AMT2, BILL_AMT3, BILL_AMT4, BILL_AMT5, BILL_AMT6, PAY_AMT1, PAY_AMT2, PAY_AMT3, PAY_AMT4, PAY_AMT5, PAY_AMT6]\n",
              "Index: []"
            ]
          },
          "metadata": {
            "tags": []
          },
          "execution_count": 101
        }
      ]
    },
    {
      "cell_type": "code",
      "metadata": {
        "id": "qcbVoZkz66Ng",
        "colab_type": "code",
        "colab": {}
      },
      "source": [
        "for i in range(1,7):\n",
        "    x_train.drop('BTEMP'+str(i), axis=1, inplace=True)\n",
        "    x_train.drop('PTEMP'+str(i), axis=1, inplace=True)\n",
        "    x_test.drop('BTEMP'+str(i), axis=1, inplace=True)\n",
        "    x_test.drop('PTEMP'+str(i), axis=1, inplace=True)"
      ],
      "execution_count": 0,
      "outputs": []
    },
    {
      "cell_type": "code",
      "metadata": {
        "id": "lmKlib36s3BE",
        "colab_type": "code",
        "colab": {}
      },
      "source": [
        "scalerMP = StandardScaler()\n",
        "\n",
        "mz_train = scalerMP.fit_transform(x_train)\n",
        "mz_test = scalerMP.transform(x_test)"
      ],
      "execution_count": 0,
      "outputs": []
    },
    {
      "cell_type": "code",
      "metadata": {
        "id": "-k8E2ZLns28Y",
        "colab_type": "code",
        "colab": {}
      },
      "source": [
        "smoterMPP = SMOTE(sampling_strategy = 'minority', random_state=777)\n",
        "sz_train, sy_train = smoterMPP.fit_resample(mz_train, y_train)"
      ],
      "execution_count": 0,
      "outputs": []
    },
    {
      "cell_type": "code",
      "metadata": {
        "id": "76z47vARcfGI",
        "colab_type": "code",
        "colab": {
          "base_uri": "https://localhost:8080/",
          "height": 342
        },
        "outputId": "377ed5b7-2d77-4fc3-ce86-19d3494c8d97"
      },
      "source": [
        "# gbmMPP = GradientBoostingClassifier()\n",
        "# gbmMPP.fit(sz_train, sy_train)\n",
        "# predictions = gbmMPP.predict(mz_test)\n",
        "\n",
        "\n",
        "print('GBM - média pagamento por cada mês')\n",
        "print('Accuracy: %.2f%%' % (accuracy_score(y_test, predictions)*100))\n",
        "print('F1 Score: %.2f%%' % (f1_score(y_test, predictions)*100))\n",
        "print('Balanced Accuracy: %.2f%%' % (balanced_accuracy_score(y_test, predictions)*100))\n",
        "\n",
        "c = confusion_matrix(y_test, predictions)\n",
        "r = c / c.sum(axis=1)[:, np.newaxis]\n",
        "\n",
        "plt.figure(figsize=(6, 4))\n",
        "# Matriz de Confusão:\n",
        "# \tLinhas: Real\n",
        "# \tColunas: Predito\n",
        "sns.heatmap(r, linewidths=.5, cmap='YlGnBu', annot=True, fmt='.1%');"
      ],
      "execution_count": 108,
      "outputs": [
        {
          "output_type": "stream",
          "text": [
            "GBM - média pagamento por cada mês\n",
            "Accuracy: 79.33%\n",
            "F1 Score: 53.66%\n",
            "Balanced Accuracy: 69.97%\n"
          ],
          "name": "stdout"
        },
        {
          "output_type": "display_data",
          "data": {
            "image/png": "[encoded data removed]",
            "text/plain": [
              "<Figure size 432x288 with 2 Axes>"
            ]
          },
          "metadata": {
            "tags": []
          }
        }
      ]
    },
    {
      "cell_type": "code",
      "metadata": {
        "id": "YnYoXFspcsIg",
        "colab_type": "code",
        "colab": {
          "base_uri": "https://localhost:8080/",
          "height": 410
        },
        "outputId": "6487a7b0-8a49-4763-ccb2-00676f507ce8"
      },
      "source": [
        "feature_importances = pd.DataFrame({ 'feature': x_train.columns, 'importance': gbmMPP.feature_importances_})\n",
        "feature_importances.sort_values('importance', ascending=False, inplace=True)\n",
        "\n",
        "plt.figure(figsize=(8,6))\n",
        "sns.barplot(feature_importances.importance,feature_importances.feature)"
      ],
      "execution_count": 110,
      "outputs": [
        {
          "output_type": "execute_result",
          "data": {
            "text/plain": [
              "<matplotlib.axes._subplots.AxesSubplot at 0x7f9b761f2cc0>"
            ]
          },
          "metadata": {
            "tags": []
          },
          "execution_count": 110
        },
        {
          "output_type": "display_data",
          "data": {
            "image/png": "[encoded data removed]",
            "text/plain": [
              "<Figure size 576x432 with 1 Axes>"
            ]
          },
          "metadata": {
            "tags": []
          }
        }
      ]
    },
    {
      "cell_type": "markdown",
      "metadata": {
        "id": "9LMRBaIv7_ns",
        "colab_type": "text"
      },
      "source": [
        "Yep.... gigante pilha de .... nada. Remoção das features inúteis"
      ]
    },
    {
      "cell_type": "code",
      "metadata": {
        "id": "Xa4XoCON72nI",
        "colab_type": "code",
        "colab": {}
      },
      "source": [
        "for i in range(1,7):\n",
        "    x_train.drop('PPAID'+str(i), axis=1, inplace=True)\n",
        "    x_test.drop('PPAID'+str(i), axis=1, inplace=True)\n",
        "    "
      ],
      "execution_count": 0,
      "outputs": []
    },
    {
      "cell_type": "code",
      "metadata": {
        "id": "dzNx37Ha72kA",
        "colab_type": "code",
        "colab": {
          "base_uri": "https://localhost:8080/",
          "height": 226
        },
        "outputId": "b0984cc7-d87d-4fe5-dcd0-a5f9df050fc3"
      },
      "source": [
        "x_train.head(5)"
      ],
      "execution_count": 113,
      "outputs": [
        {
          "output_type": "execute_result",
          "data": {
            "text/html": [
              "<div>\n",
              "<style scoped>\n",
              "    .dataframe tbody tr th:only-of-type {\n",
              "        vertical-align: middle;\n",
              "    }\n",
              "\n",
              "    .dataframe tbody tr th {\n",
              "        vertical-align: top;\n",
              "    }\n",
              "\n",
              "    .dataframe thead th {\n",
              "        text-align: right;\n",
              "    }\n",
              "</style>\n",
              "<table border=\"1\" class=\"dataframe\">\n",
              "  <thead>\n",
              "    <tr style=\"text-align: right;\">\n",
              "      <th></th>\n",
              "      <th>LIMIT_BAL</th>\n",
              "      <th>SEX</th>\n",
              "      <th>EDUCATION</th>\n",
              "      <th>MARRIAGE</th>\n",
              "      <th>AGE</th>\n",
              "      <th>PAY_1</th>\n",
              "      <th>PAY_2</th>\n",
              "      <th>PAY_3</th>\n",
              "      <th>PAY_4</th>\n",
              "      <th>PAY_5</th>\n",
              "      <th>PAY_6</th>\n",
              "      <th>BILL_AMT1</th>\n",
              "      <th>BILL_AMT2</th>\n",
              "      <th>BILL_AMT3</th>\n",
              "      <th>BILL_AMT4</th>\n",
              "      <th>BILL_AMT5</th>\n",
              "      <th>BILL_AMT6</th>\n",
              "      <th>PAY_AMT1</th>\n",
              "      <th>PAY_AMT2</th>\n",
              "      <th>PAY_AMT3</th>\n",
              "      <th>PAY_AMT4</th>\n",
              "      <th>PAY_AMT5</th>\n",
              "      <th>PAY_AMT6</th>\n",
              "    </tr>\n",
              "  </thead>\n",
              "  <tbody>\n",
              "    <tr>\n",
              "      <th>25806</th>\n",
              "      <td>150000.0</td>\n",
              "      <td>2</td>\n",
              "      <td>2</td>\n",
              "      <td>2</td>\n",
              "      <td>30</td>\n",
              "      <td>0</td>\n",
              "      <td>0</td>\n",
              "      <td>0</td>\n",
              "      <td>0</td>\n",
              "      <td>0</td>\n",
              "      <td>0</td>\n",
              "      <td>69955.0</td>\n",
              "      <td>59380.0</td>\n",
              "      <td>57431.0</td>\n",
              "      <td>52754.0</td>\n",
              "      <td>52430.0</td>\n",
              "      <td>41770.0</td>\n",
              "      <td>1873.0</td>\n",
              "      <td>1897.0</td>\n",
              "      <td>1552.0</td>\n",
              "      <td>1649.0</td>\n",
              "      <td>2005.0</td>\n",
              "      <td>11064.0</td>\n",
              "    </tr>\n",
              "    <tr>\n",
              "      <th>18204</th>\n",
              "      <td>260000.0</td>\n",
              "      <td>1</td>\n",
              "      <td>1</td>\n",
              "      <td>2</td>\n",
              "      <td>39</td>\n",
              "      <td>0</td>\n",
              "      <td>0</td>\n",
              "      <td>0</td>\n",
              "      <td>0</td>\n",
              "      <td>0</td>\n",
              "      <td>0</td>\n",
              "      <td>248880.0</td>\n",
              "      <td>248758.0</td>\n",
              "      <td>245404.0</td>\n",
              "      <td>169632.0</td>\n",
              "      <td>165098.0</td>\n",
              "      <td>151157.0</td>\n",
              "      <td>10611.0</td>\n",
              "      <td>9708.0</td>\n",
              "      <td>5929.0</td>\n",
              "      <td>5622.0</td>\n",
              "      <td>5465.0</td>\n",
              "      <td>5474.0</td>\n",
              "    </tr>\n",
              "    <tr>\n",
              "      <th>4139</th>\n",
              "      <td>220000.0</td>\n",
              "      <td>1</td>\n",
              "      <td>1</td>\n",
              "      <td>2</td>\n",
              "      <td>48</td>\n",
              "      <td>0</td>\n",
              "      <td>0</td>\n",
              "      <td>0</td>\n",
              "      <td>2</td>\n",
              "      <td>0</td>\n",
              "      <td>0</td>\n",
              "      <td>115294.0</td>\n",
              "      <td>117945.0</td>\n",
              "      <td>130365.0</td>\n",
              "      <td>126780.0</td>\n",
              "      <td>129570.0</td>\n",
              "      <td>133553.0</td>\n",
              "      <td>6000.0</td>\n",
              "      <td>16000.0</td>\n",
              "      <td>0.0</td>\n",
              "      <td>5000.0</td>\n",
              "      <td>6300.0</td>\n",
              "      <td>3000.0</td>\n",
              "    </tr>\n",
              "    <tr>\n",
              "      <th>18540</th>\n",
              "      <td>60000.0</td>\n",
              "      <td>2</td>\n",
              "      <td>2</td>\n",
              "      <td>2</td>\n",
              "      <td>24</td>\n",
              "      <td>0</td>\n",
              "      <td>0</td>\n",
              "      <td>0</td>\n",
              "      <td>0</td>\n",
              "      <td>0</td>\n",
              "      <td>0</td>\n",
              "      <td>29832.0</td>\n",
              "      <td>18628.0</td>\n",
              "      <td>15069.0</td>\n",
              "      <td>15761.0</td>\n",
              "      <td>5879.0</td>\n",
              "      <td>-2879.0</td>\n",
              "      <td>1538.0</td>\n",
              "      <td>1308.0</td>\n",
              "      <td>1000.0</td>\n",
              "      <td>118.0</td>\n",
              "      <td>1329.0</td>\n",
              "      <td>41378.0</td>\n",
              "    </tr>\n",
              "    <tr>\n",
              "      <th>6443</th>\n",
              "      <td>110000.0</td>\n",
              "      <td>2</td>\n",
              "      <td>2</td>\n",
              "      <td>2</td>\n",
              "      <td>32</td>\n",
              "      <td>0</td>\n",
              "      <td>0</td>\n",
              "      <td>0</td>\n",
              "      <td>0</td>\n",
              "      <td>0</td>\n",
              "      <td>0</td>\n",
              "      <td>108159.0</td>\n",
              "      <td>106812.0</td>\n",
              "      <td>108464.0</td>\n",
              "      <td>108829.0</td>\n",
              "      <td>110557.0</td>\n",
              "      <td>106082.0</td>\n",
              "      <td>5400.0</td>\n",
              "      <td>5400.0</td>\n",
              "      <td>4100.0</td>\n",
              "      <td>4100.0</td>\n",
              "      <td>4100.0</td>\n",
              "      <td>4200.0</td>\n",
              "    </tr>\n",
              "  </tbody>\n",
              "</table>\n",
              "</div>"
            ],
            "text/plain": [
              "       LIMIT_BAL  SEX  EDUCATION  ...  PAY_AMT4  PAY_AMT5  PAY_AMT6\n",
              "25806   150000.0    2          2  ...    1649.0    2005.0   11064.0\n",
              "18204   260000.0    1          1  ...    5622.0    5465.0    5474.0\n",
              "4139    220000.0    1          1  ...    5000.0    6300.0    3000.0\n",
              "18540    60000.0    2          2  ...     118.0    1329.0   41378.0\n",
              "6443    110000.0    2          2  ...    4100.0    4100.0    4200.0\n",
              "\n",
              "[5 rows x 23 columns]"
            ]
          },
          "metadata": {
            "tags": []
          },
          "execution_count": 113
        }
      ]
    },
    {
      "cell_type": "code",
      "metadata": {
        "id": "8QsgJc0672g4",
        "colab_type": "code",
        "colab": {}
      },
      "source": [
        ""
      ],
      "execution_count": 0,
      "outputs": []
    },
    {
      "cell_type": "code",
      "metadata": {
        "id": "0r68hv0a72cM",
        "colab_type": "code",
        "colab": {}
      },
      "source": [
        ""
      ],
      "execution_count": 0,
      "outputs": []
    },
    {
      "cell_type": "code",
      "metadata": {
        "id": "bm4lawjk72Xg",
        "colab_type": "code",
        "colab": {}
      },
      "source": [
        ""
      ],
      "execution_count": 0,
      "outputs": []
    },
    {
      "cell_type": "code",
      "metadata": {
        "id": "hftULfRz72UY",
        "colab_type": "code",
        "colab": {}
      },
      "source": [
        ""
      ],
      "execution_count": 0,
      "outputs": []
    },
    {
      "cell_type": "code",
      "metadata": {
        "id": "Uq3gqAUR72Ps",
        "colab_type": "code",
        "colab": {}
      },
      "source": [
        ""
      ],
      "execution_count": 0,
      "outputs": []
    },
    {
      "cell_type": "code",
      "metadata": {
        "id": "w754A2x972Mk",
        "colab_type": "code",
        "colab": {}
      },
      "source": [
        ""
      ],
      "execution_count": 0,
      "outputs": []
    },
    {
      "cell_type": "code",
      "metadata": {
        "id": "jHpz3WAw72Jc",
        "colab_type": "code",
        "colab": {}
      },
      "source": [
        ""
      ],
      "execution_count": 0,
      "outputs": []
    },
    {
      "cell_type": "code",
      "metadata": {
        "id": "JSwYAzUg72DM",
        "colab_type": "code",
        "colab": {}
      },
      "source": [
        ""
      ],
      "execution_count": 0,
      "outputs": []
    },
    {
      "cell_type": "code",
      "metadata": {
        "id": "xU2mHzMs72AE",
        "colab_type": "code",
        "colab": {}
      },
      "source": [
        ""
      ],
      "execution_count": 0,
      "outputs": []
    },
    {
      "cell_type": "code",
      "metadata": {
        "id": "HeZ4UahHdzZc",
        "colab_type": "code",
        "colab": {}
      },
      "source": [
        "\n"
      ],
      "execution_count": 0,
      "outputs": []
    },
    {
      "cell_type": "code",
      "metadata": {
        "id": "0RPf_1zLkYDU",
        "colab_type": "code",
        "colab": {}
      },
      "source": [
        ""
      ],
      "execution_count": 0,
      "outputs": []
    },
    {
      "cell_type": "markdown",
      "metadata": {
        "id": "rnZSR7Tw86s8",
        "colab_type": "text"
      },
      "source": [
        "## OneHotEncoding das Features categóricas\n",
        "\n",
        "As features 'SEX', 'EDUCATION', 'MARRIAGE','PAY_1','PAY_2', 'PAY_3', 'PAY_4', 'PAY_5' e 'PAY_6' possuem valores discretos e podem auxiliar o classificador caso sejam codificadas apropriadamente."
      ]
    },
    {
      "cell_type": "code",
      "metadata": {
        "id": "9EsyIDgWicLM",
        "colab_type": "code",
        "colab": {}
      },
      "source": [
        "encoder = ColumnTransformer([\n",
        "    ('num', StandardScaler(), ['LIMIT_BAL', 'AGE']+ ownedFields + paymentFields),\n",
        "    ('cat', OneHotEncoder(categories='auto'), ['SEX', 'EDUCATION', 'MARRIAGE','PAY_1','PAY_2', 'PAY_3', 'PAY_4', 'PAY_5', 'PAY_6'])\n",
        "], sparse_threshold = 0)\n",
        "\n",
        "e_train = encoder.fit_transform(x_train)\n",
        "e_test  = encoder.transform(x_test)"
      ],
      "execution_count": 0,
      "outputs": []
    },
    {
      "cell_type": "code",
      "metadata": {
        "id": "rBf0zJu8liH8",
        "colab_type": "code",
        "colab": {
          "base_uri": "https://localhost:8080/",
          "height": 342
        },
        "outputId": "68c7166e-8b0e-49f1-b849-d0a629464b9e"
      },
      "source": [
        "svmOHE = SVC(kernel='rbf', C=1, gamma='auto', class_weight='balanced', random_state=999)\n",
        "svmOHE.fit(e_train, y_train)\n",
        "predictions = svmOHE.predict(e_test)\n",
        "\n",
        "\n",
        "print('SVM - OHE Features categóricas')\n",
        "print('Accuracy: %.2f%%' % (accuracy_score(y_test, predictions)*100))\n",
        "print('F1 Score: %.2f%%' % (f1_score(y_test, predictions)*100))\n",
        "print('Balanced Accuracy: %.2f%%' % (balanced_accuracy_score(y_test, predictions)*100))\n",
        "\n",
        "c = confusion_matrix(y_test, predictions)\n",
        "r = c / c.sum(axis=1)[:, np.newaxis]\n",
        "\n",
        "plt.figure(figsize=(6, 4))\n",
        "# Matriz de Confusão:\n",
        "# \tLinhas: Real\n",
        "# \tColunas: Predito\n",
        "sns.heatmap(r, linewidths=.5, cmap='YlGnBu', annot=True, fmt='.1%');"
      ],
      "execution_count": 117,
      "outputs": [
        {
          "output_type": "stream",
          "text": [
            "SVM - OHE Features categóricas\n",
            "Accuracy: 77.78%\n",
            "F1 Score: 53.01%\n",
            "Balanced Accuracy: 69.86%\n"
          ],
          "name": "stdout"
        },
        {
          "output_type": "display_data",
          "data": {
            "image/png": "[encoded data removed]",
            "text/plain": [
              "<Figure size 432x288 with 2 Axes>"
            ]
          },
          "metadata": {
            "tags": []
          }
        }
      ]
    },
    {
      "cell_type": "code",
      "metadata": {
        "id": "JU4FKGm-o4dI",
        "colab_type": "code",
        "colab": {}
      },
      "source": [
        ""
      ],
      "execution_count": 0,
      "outputs": []
    },
    {
      "cell_type": "markdown",
      "metadata": {
        "id": "oLDgnyZj9kD0",
        "colab_type": "text"
      },
      "source": [
        "## Teste do classificador XGB"
      ]
    },
    {
      "cell_type": "code",
      "metadata": {
        "id": "kXRTN1Aeo5v8",
        "colab_type": "code",
        "colab": {
          "base_uri": "https://localhost:8080/",
          "height": 54
        },
        "outputId": "b30eda1b-7ac6-495a-e427-cf4d2f098b59"
      },
      "source": [
        "%%time\n",
        "\n",
        "model = XGBClassifier()\n",
        "model.fit(x_train, y_train)\n",
        "\n",
        "predictions = model.predict(x_test)"
      ],
      "execution_count": 121,
      "outputs": [
        {
          "output_type": "stream",
          "text": [
            "CPU times: user 2.32 s, sys: 6.96 ms, total: 2.33 s\n",
            "Wall time: 2.33 s\n"
          ],
          "name": "stdout"
        }
      ]
    },
    {
      "cell_type": "code",
      "metadata": {
        "id": "yDPa0qxmpSdM",
        "colab_type": "code",
        "colab": {
          "base_uri": "https://localhost:8080/",
          "height": 342
        },
        "outputId": "1ec6629a-f837-4ef9-e64b-30c6c8e2c28b"
      },
      "source": [
        "print('XGBoost - No SMOTE')\n",
        "print('Accuracy: %.2f%%' % (accuracy_score(y_test, predictions)*100))\n",
        "print('F1 Score: %.2f%%' % (f1_score(y_test, predictions)*100))\n",
        "print('Balanced Accuracy: %.2f%%' % (balanced_accuracy_score(y_test, predictions)*100))\n",
        "\n",
        "\n",
        "c = confusion_matrix(y_test, predictions)\n",
        "r = c / c.sum(axis=1)[:, np.newaxis]\n",
        "\n",
        "plt.figure(figsize=(6, 4))\n",
        "# Matriz de Confusão:\n",
        "# \tLinhas: Real\n",
        "# \tColunas: Predito\n",
        "sns.heatmap(r, linewidths=.5, cmap='YlGnBu', annot=True, fmt='.1%');"
      ],
      "execution_count": 123,
      "outputs": [
        {
          "output_type": "stream",
          "text": [
            "XGBoost - No SMOTE\n",
            "Accuracy: 81.72%\n",
            "F1 Score: 47.49%\n",
            "Balanced Accuracy: 65.73%\n"
          ],
          "name": "stdout"
        },
        {
          "output_type": "display_data",
          "data": {
            "image/png": "[encoded data removed]",
            "text/plain": [
              "<Figure size 432x288 with 2 Axes>"
            ]
          },
          "metadata": {
            "tags": []
          }
        }
      ]
    },
    {
      "cell_type": "code",
      "metadata": {
        "id": "phZ1XNIv-4UA",
        "colab_type": "code",
        "colab": {
          "base_uri": "https://localhost:8080/",
          "height": 226
        },
        "outputId": "33b1c7f0-f10e-4e7d-b940-4ed621b00a78"
      },
      "source": [
        "x_test.head(5)"
      ],
      "execution_count": 129,
      "outputs": [
        {
          "output_type": "execute_result",
          "data": {
            "text/html": [
              "<div>\n",
              "<style scoped>\n",
              "    .dataframe tbody tr th:only-of-type {\n",
              "        vertical-align: middle;\n",
              "    }\n",
              "\n",
              "    .dataframe tbody tr th {\n",
              "        vertical-align: top;\n",
              "    }\n",
              "\n",
              "    .dataframe thead th {\n",
              "        text-align: right;\n",
              "    }\n",
              "</style>\n",
              "<table border=\"1\" class=\"dataframe\">\n",
              "  <thead>\n",
              "    <tr style=\"text-align: right;\">\n",
              "      <th></th>\n",
              "      <th>LIMIT_BAL</th>\n",
              "      <th>SEX</th>\n",
              "      <th>EDUCATION</th>\n",
              "      <th>MARRIAGE</th>\n",
              "      <th>AGE</th>\n",
              "      <th>PAY_1</th>\n",
              "      <th>PAY_2</th>\n",
              "      <th>PAY_3</th>\n",
              "      <th>PAY_4</th>\n",
              "      <th>PAY_5</th>\n",
              "      <th>PAY_6</th>\n",
              "      <th>BILL_AMT1</th>\n",
              "      <th>BILL_AMT2</th>\n",
              "      <th>BILL_AMT3</th>\n",
              "      <th>BILL_AMT4</th>\n",
              "      <th>BILL_AMT5</th>\n",
              "      <th>BILL_AMT6</th>\n",
              "      <th>PAY_AMT1</th>\n",
              "      <th>PAY_AMT2</th>\n",
              "      <th>PAY_AMT3</th>\n",
              "      <th>PAY_AMT4</th>\n",
              "      <th>PAY_AMT5</th>\n",
              "      <th>PAY_AMT6</th>\n",
              "    </tr>\n",
              "  </thead>\n",
              "  <tbody>\n",
              "    <tr>\n",
              "      <th>812</th>\n",
              "      <td>140000.0</td>\n",
              "      <td>2</td>\n",
              "      <td>1</td>\n",
              "      <td>2</td>\n",
              "      <td>24</td>\n",
              "      <td>1</td>\n",
              "      <td>-2</td>\n",
              "      <td>-2</td>\n",
              "      <td>-2</td>\n",
              "      <td>-1</td>\n",
              "      <td>-1</td>\n",
              "      <td>0.0</td>\n",
              "      <td>0.0</td>\n",
              "      <td>0.0</td>\n",
              "      <td>0.0</td>\n",
              "      <td>1086.0</td>\n",
              "      <td>0.0</td>\n",
              "      <td>0.0</td>\n",
              "      <td>0.0</td>\n",
              "      <td>0.0</td>\n",
              "      <td>1086.0</td>\n",
              "      <td>0.0</td>\n",
              "      <td>0.0</td>\n",
              "    </tr>\n",
              "    <tr>\n",
              "      <th>6126</th>\n",
              "      <td>490000.0</td>\n",
              "      <td>1</td>\n",
              "      <td>1</td>\n",
              "      <td>1</td>\n",
              "      <td>29</td>\n",
              "      <td>-1</td>\n",
              "      <td>-1</td>\n",
              "      <td>-1</td>\n",
              "      <td>-1</td>\n",
              "      <td>0</td>\n",
              "      <td>-1</td>\n",
              "      <td>115.0</td>\n",
              "      <td>109.0</td>\n",
              "      <td>1375.0</td>\n",
              "      <td>230.0</td>\n",
              "      <td>115.0</td>\n",
              "      <td>113.0</td>\n",
              "      <td>109.0</td>\n",
              "      <td>1381.0</td>\n",
              "      <td>230.0</td>\n",
              "      <td>0.0</td>\n",
              "      <td>113.0</td>\n",
              "      <td>0.0</td>\n",
              "    </tr>\n",
              "    <tr>\n",
              "      <th>26447</th>\n",
              "      <td>340000.0</td>\n",
              "      <td>2</td>\n",
              "      <td>2</td>\n",
              "      <td>1</td>\n",
              "      <td>48</td>\n",
              "      <td>0</td>\n",
              "      <td>0</td>\n",
              "      <td>0</td>\n",
              "      <td>0</td>\n",
              "      <td>0</td>\n",
              "      <td>0</td>\n",
              "      <td>310866.0</td>\n",
              "      <td>320685.0</td>\n",
              "      <td>320614.0</td>\n",
              "      <td>21768.0</td>\n",
              "      <td>22405.0</td>\n",
              "      <td>24545.0</td>\n",
              "      <td>15000.0</td>\n",
              "      <td>7000.0</td>\n",
              "      <td>1500.0</td>\n",
              "      <td>1000.0</td>\n",
              "      <td>2500.0</td>\n",
              "      <td>112500.0</td>\n",
              "    </tr>\n",
              "    <tr>\n",
              "      <th>20629</th>\n",
              "      <td>220000.0</td>\n",
              "      <td>1</td>\n",
              "      <td>1</td>\n",
              "      <td>2</td>\n",
              "      <td>29</td>\n",
              "      <td>0</td>\n",
              "      <td>0</td>\n",
              "      <td>0</td>\n",
              "      <td>0</td>\n",
              "      <td>0</td>\n",
              "      <td>0</td>\n",
              "      <td>26012.0</td>\n",
              "      <td>25916.0</td>\n",
              "      <td>24998.0</td>\n",
              "      <td>23965.0</td>\n",
              "      <td>23865.0</td>\n",
              "      <td>23667.0</td>\n",
              "      <td>1410.0</td>\n",
              "      <td>1417.0</td>\n",
              "      <td>1333.0</td>\n",
              "      <td>731.0</td>\n",
              "      <td>1019.0</td>\n",
              "      <td>1045.0</td>\n",
              "    </tr>\n",
              "    <tr>\n",
              "      <th>9976</th>\n",
              "      <td>110000.0</td>\n",
              "      <td>2</td>\n",
              "      <td>1</td>\n",
              "      <td>2</td>\n",
              "      <td>32</td>\n",
              "      <td>1</td>\n",
              "      <td>-1</td>\n",
              "      <td>0</td>\n",
              "      <td>0</td>\n",
              "      <td>0</td>\n",
              "      <td>-2</td>\n",
              "      <td>0.0</td>\n",
              "      <td>1670.0</td>\n",
              "      <td>11693.0</td>\n",
              "      <td>7903.0</td>\n",
              "      <td>-18.0</td>\n",
              "      <td>-18.0</td>\n",
              "      <td>1670.0</td>\n",
              "      <td>10200.0</td>\n",
              "      <td>0.0</td>\n",
              "      <td>0.0</td>\n",
              "      <td>0.0</td>\n",
              "      <td>0.0</td>\n",
              "    </tr>\n",
              "  </tbody>\n",
              "</table>\n",
              "</div>"
            ],
            "text/plain": [
              "       LIMIT_BAL  SEX  EDUCATION  ...  PAY_AMT4  PAY_AMT5  PAY_AMT6\n",
              "812     140000.0    2          1  ...    1086.0       0.0       0.0\n",
              "6126    490000.0    1          1  ...       0.0     113.0       0.0\n",
              "26447   340000.0    2          2  ...    1000.0    2500.0  112500.0\n",
              "20629   220000.0    1          1  ...     731.0    1019.0    1045.0\n",
              "9976    110000.0    2          1  ...       0.0       0.0       0.0\n",
              "\n",
              "[5 rows x 23 columns]"
            ]
          },
          "metadata": {
            "tags": []
          },
          "execution_count": 129
        }
      ]
    },
    {
      "cell_type": "code",
      "metadata": {
        "id": "0okt59aH-TJ4",
        "colab_type": "code",
        "colab": {}
      },
      "source": [
        "smoterX = SMOTE(sampling_strategy = 'minority', random_state=71717)\n",
        "sz_train, sy_train = smoterX.fit_resample(x_train, y_train)\n",
        "\n",
        "modelS = XGBClassifier()\n",
        "modelS.fit(sz_train, sy_train)\n",
        "\n",
        "predictions = modelS.predict(x_test.values)"
      ],
      "execution_count": 0,
      "outputs": []
    },
    {
      "cell_type": "code",
      "metadata": {
        "id": "7nk7E3wY-Sng",
        "colab_type": "code",
        "colab": {
          "base_uri": "https://localhost:8080/",
          "height": 342
        },
        "outputId": "7fa2c817-ac3c-4f2d-83f0-0a09ee70dcef"
      },
      "source": [
        "print('XGBoost - SMOTE-d')\n",
        "print('Accuracy: %.2f%%' % (accuracy_score(y_test, predictions)*100))\n",
        "print('F1 Score: %.2f%%' % (f1_score(y_test, predictions)*100))\n",
        "print('Balanced Accuracy: %.2f%%' % (balanced_accuracy_score(y_test, predictions)*100))\n",
        "\n",
        "\n",
        "c = confusion_matrix(y_test, predictions)\n",
        "r = c / c.sum(axis=1)[:, np.newaxis]\n",
        "\n",
        "plt.figure(figsize=(6, 4))\n",
        "# Matriz de Confusão:\n",
        "# \tLinhas: Real\n",
        "# \tColunas: Predito\n",
        "sns.heatmap(r, linewidths=.5, cmap='YlGnBu', annot=True, fmt='.1%');"
      ],
      "execution_count": 133,
      "outputs": [
        {
          "output_type": "stream",
          "text": [
            "XGBoost - SMOTE-d\n",
            "Accuracy: 81.67%\n",
            "F1 Score: 48.41%\n",
            "Balanced Accuracy: 66.22%\n"
          ],
          "name": "stdout"
        },
        {
          "output_type": "display_data",
          "data": {
            "image/png": "[encoded data removed]",
            "text/plain": [
              "<Figure size 432x288 with 2 Axes>"
            ]
          },
          "metadata": {
            "tags": []
          }
        }
      ]
    },
    {
      "cell_type": "code",
      "metadata": {
        "id": "sC_A3noBtyhI",
        "colab_type": "code",
        "colab": {}
      },
      "source": [
        "x_train, x_test, y_train, y_test = train_test_split(df.iloc[:,1:-1],df.iloc[:,-1], test_size=test_size_split, random_state=random_seed_val)\n",
        "\n",
        "scaler = StandardScaler()\n",
        "z_train = scaler.fit_transform(x_train)\n",
        "z_test = scaler.transform(x_test)\n",
        "\n",
        "params2Test = {\n",
        "    'C': [0.001, 0.01, 0.1, 1, 10],\n",
        "    'gamma': [0.001, 0.01, 0.1, 1, 10], #auto equivale a 0.043\n",
        "    'kernel': ['linear', 'rbf'],\n",
        "    'class_weight': [None, 'balanced']\n",
        "}\n",
        "\n",
        "\n",
        "grid = GridSearchCV(SVC(), params2Test, scoring='balanced_accuracy', cv=5)"
      ],
      "execution_count": 0,
      "outputs": []
    },
    {
      "cell_type": "code",
      "metadata": {
        "id": "bS7Hym6P5gkQ",
        "colab_type": "code",
        "colab": {}
      },
      "source": [
        "%%time\n",
        "\n",
        "grid.fit(z_train, y_train)"
      ],
      "execution_count": 0,
      "outputs": []
    }
  ]
}